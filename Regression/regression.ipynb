{
 "cells": [
  {
   "cell_type": "markdown",
   "metadata": {},
   "source": [
    "## ML Algorithms - Regression Example\n"
   ]
  },
  {
   "cell_type": "markdown",
   "metadata": {},
   "source": [
    "### Business Problem\n"
   ]
  },
  {
   "cell_type": "markdown",
   "metadata": {},
   "source": [
    "For this example, we are trying to predict how much an individual customer will spend during a black Friday sale. This type of modeling is particularly useful for pricing campaigns and creating deals for specific customers."
   ]
  },
  {
   "cell_type": "markdown",
   "metadata": {},
   "source": [
    "### Import Libraries\n"
   ]
  },
  {
   "cell_type": "code",
   "execution_count": 19,
   "metadata": {},
   "outputs": [],
   "source": [
    "import pandas as pd\n",
    "import numpy as np\n",
    "from sklearn.model_selection import cross_val_score, train_test_split\n",
    "from sklearn.impute import SimpleImputer\n",
    "from sklearn.compose import ColumnTransformer\n",
    "from sklearn.model_selection import GridSearchCV"
   ]
  },
  {
   "cell_type": "code",
   "execution_count": 28,
   "metadata": {},
   "outputs": [],
   "source": [
    "import matplotlib.pyplot as plt\n",
    "import seaborn as sns\n",
    "sns.set()"
   ]
  },
  {
   "cell_type": "markdown",
   "metadata": {},
   "source": [
    "### Load Data"
   ]
  },
  {
   "cell_type": "code",
   "execution_count": 20,
   "metadata": {},
   "outputs": [],
   "source": [
    "df  = pd.read_csv(\"train.csv\")"
   ]
  },
  {
   "cell_type": "code",
   "execution_count": 21,
   "metadata": {},
   "outputs": [
    {
     "data": {
      "text/html": [
       "<div>\n",
       "<style scoped>\n",
       "    .dataframe tbody tr th:only-of-type {\n",
       "        vertical-align: middle;\n",
       "    }\n",
       "\n",
       "    .dataframe tbody tr th {\n",
       "        vertical-align: top;\n",
       "    }\n",
       "\n",
       "    .dataframe thead th {\n",
       "        text-align: right;\n",
       "    }\n",
       "</style>\n",
       "<table border=\"1\" class=\"dataframe\">\n",
       "  <thead>\n",
       "    <tr style=\"text-align: right;\">\n",
       "      <th></th>\n",
       "      <th>User_ID</th>\n",
       "      <th>Product_ID</th>\n",
       "      <th>Gender</th>\n",
       "      <th>Age</th>\n",
       "      <th>Occupation</th>\n",
       "      <th>City_Category</th>\n",
       "      <th>Stay_In_Current_City_Years</th>\n",
       "      <th>Marital_Status</th>\n",
       "      <th>Product_Category_1</th>\n",
       "      <th>Product_Category_2</th>\n",
       "      <th>Product_Category_3</th>\n",
       "      <th>Purchase</th>\n",
       "    </tr>\n",
       "  </thead>\n",
       "  <tbody>\n",
       "    <tr>\n",
       "      <th>0</th>\n",
       "      <td>1000001</td>\n",
       "      <td>P00069042</td>\n",
       "      <td>F</td>\n",
       "      <td>0-17</td>\n",
       "      <td>10</td>\n",
       "      <td>A</td>\n",
       "      <td>2</td>\n",
       "      <td>0</td>\n",
       "      <td>3</td>\n",
       "      <td>NaN</td>\n",
       "      <td>NaN</td>\n",
       "      <td>8370</td>\n",
       "    </tr>\n",
       "    <tr>\n",
       "      <th>1</th>\n",
       "      <td>1000001</td>\n",
       "      <td>P00248942</td>\n",
       "      <td>F</td>\n",
       "      <td>0-17</td>\n",
       "      <td>10</td>\n",
       "      <td>A</td>\n",
       "      <td>2</td>\n",
       "      <td>0</td>\n",
       "      <td>1</td>\n",
       "      <td>6.0</td>\n",
       "      <td>14.0</td>\n",
       "      <td>15200</td>\n",
       "    </tr>\n",
       "    <tr>\n",
       "      <th>2</th>\n",
       "      <td>1000001</td>\n",
       "      <td>P00087842</td>\n",
       "      <td>F</td>\n",
       "      <td>0-17</td>\n",
       "      <td>10</td>\n",
       "      <td>A</td>\n",
       "      <td>2</td>\n",
       "      <td>0</td>\n",
       "      <td>12</td>\n",
       "      <td>NaN</td>\n",
       "      <td>NaN</td>\n",
       "      <td>1422</td>\n",
       "    </tr>\n",
       "    <tr>\n",
       "      <th>3</th>\n",
       "      <td>1000001</td>\n",
       "      <td>P00085442</td>\n",
       "      <td>F</td>\n",
       "      <td>0-17</td>\n",
       "      <td>10</td>\n",
       "      <td>A</td>\n",
       "      <td>2</td>\n",
       "      <td>0</td>\n",
       "      <td>12</td>\n",
       "      <td>14.0</td>\n",
       "      <td>NaN</td>\n",
       "      <td>1057</td>\n",
       "    </tr>\n",
       "    <tr>\n",
       "      <th>4</th>\n",
       "      <td>1000002</td>\n",
       "      <td>P00285442</td>\n",
       "      <td>M</td>\n",
       "      <td>55+</td>\n",
       "      <td>16</td>\n",
       "      <td>C</td>\n",
       "      <td>4+</td>\n",
       "      <td>0</td>\n",
       "      <td>8</td>\n",
       "      <td>NaN</td>\n",
       "      <td>NaN</td>\n",
       "      <td>7969</td>\n",
       "    </tr>\n",
       "  </tbody>\n",
       "</table>\n",
       "</div>"
      ],
      "text/plain": [
       "   User_ID Product_ID Gender   Age  Occupation City_Category   \n",
       "0  1000001  P00069042      F  0-17          10             A  \\\n",
       "1  1000001  P00248942      F  0-17          10             A   \n",
       "2  1000001  P00087842      F  0-17          10             A   \n",
       "3  1000001  P00085442      F  0-17          10             A   \n",
       "4  1000002  P00285442      M   55+          16             C   \n",
       "\n",
       "  Stay_In_Current_City_Years  Marital_Status  Product_Category_1   \n",
       "0                          2               0                   3  \\\n",
       "1                          2               0                   1   \n",
       "2                          2               0                  12   \n",
       "3                          2               0                  12   \n",
       "4                         4+               0                   8   \n",
       "\n",
       "   Product_Category_2  Product_Category_3  Purchase  \n",
       "0                 NaN                 NaN      8370  \n",
       "1                 6.0                14.0     15200  \n",
       "2                 NaN                 NaN      1422  \n",
       "3                14.0                 NaN      1057  \n",
       "4                 NaN                 NaN      7969  "
      ]
     },
     "execution_count": 21,
     "metadata": {},
     "output_type": "execute_result"
    }
   ],
   "source": [
    "df.head()"
   ]
  },
  {
   "cell_type": "code",
   "execution_count": 22,
   "metadata": {},
   "outputs": [
    {
     "data": {
      "text/plain": [
       "Age\n",
       "26-35    219587\n",
       "36-45    110013\n",
       "18-25     99660\n",
       "46-50     45701\n",
       "51-55     38501\n",
       "55+       21504\n",
       "0-17      15102\n",
       "Name: count, dtype: int64"
      ]
     },
     "execution_count": 22,
     "metadata": {},
     "output_type": "execute_result"
    }
   ],
   "source": [
    "df.Age.value_counts()"
   ]
  },
  {
   "cell_type": "markdown",
   "metadata": {},
   "source": [
    "### Data Preprocessing"
   ]
  },
  {
   "cell_type": "markdown",
   "metadata": {},
   "source": [
    "In this section, we need to fix a few of the following columns:\n",
    "\n",
    "**Occupation**: convert to categorical\n",
    "\n",
    "**Maritial_status**: convert to categorical\n",
    "\n",
    "**product_categories**: convert to categorical\n",
    "\n",
    "**Stay_In_Current_City_Years**: convert to numeric\n",
    "\n",
    "**Age**: Format the age"
   ]
  },
  {
   "cell_type": "code",
   "execution_count": 23,
   "metadata": {},
   "outputs": [],
   "source": [
    "# Change to categorical from numeric\n",
    "df['Occupation'] = pd.Categorical(df['Occupation'])\n",
    "df['Marital_Status'] = pd.Categorical(df['Marital_Status'])\n",
    "df['Product_Category_1'] = pd.Categorical(df['Product_Category_1'])\n",
    "df['Product_Category_2'] = pd.Categorical(df['Product_Category_2'])\n",
    "df['Product_Category_3'] = pd.Categorical(df['Product_Category_3'])\n",
    "\n",
    "# Change to numeric\n",
    "if df['Stay_In_Current_City_Years'].dtype == 'object':\n",
    "    df['Stay_In_Current_City_Years'] = df['Stay_In_Current_City_Years'].str.replace('+', '', regex=False).astype(int)\n",
    "\n",
    "# Fix age column\n",
    "def random_age_replace(df_in, old_col, new_col):\n",
    "    \"\"\"\n",
    "    Replaces age ranges with random integers within the specified ranges.\n",
    "    \n",
    "    Parameters:\n",
    "        df_in (pd.DataFrame): Input DataFrame.\n",
    "        old_col (str): Column with age ranges.\n",
    "        new_col (str): New column for random ages.\n",
    "\n",
    "    Returns:\n",
    "        pd.DataFrame: Modified DataFrame with the new age column.\n",
    "    \"\"\"\n",
    "    np.random.seed(1)\n",
    "    df_out = df_in.copy()\n",
    "    df_out[new_col] = df_out[old_col]\n",
    "    \n",
    "    # Iterate over unique values in the age column\n",
    "    for age_range in df_out[old_col].unique():\n",
    "        if '-' in age_range:  # Handle ranges like \"20-30\"\n",
    "            low, high = map(int, age_range.split('-'))\n",
    "            size = df_out[df_out[old_col] == age_range].shape[0]\n",
    "            df_out.loc[df_out[old_col] == age_range, new_col] = np.random.randint(low, high, size)\n",
    "        else:  # Handle single values like \"55+\"\n",
    "            size = df_out[df_out[old_col] == age_range].shape[0]\n",
    "            df_out.loc[df_out[old_col] == age_range, new_col] = np.random.randint(55, 90, size)\n",
    "    \n",
    "    return df_out\n",
    "\n",
    "# Apply the function\n",
    "df = random_age_replace(df, 'Age', 'New_Age')\n",
    "df['New_Age'] = df['New_Age'].astype(int)\n"
   ]
  },
  {
   "cell_type": "markdown",
   "metadata": {},
   "source": [
    "### **Exploratory Data Analysis**\n"
   ]
  },
  {
   "cell_type": "code",
   "execution_count": 29,
   "metadata": {},
   "outputs": [
    {
     "data": {
      "text/plain": [
       "<Axes: >"
      ]
     },
     "execution_count": 29,
     "metadata": {},
     "output_type": "execute_result"
    },
    {
     "data": {
      "image/png": "[encoded data removed]",
      "text/plain": [
       "<Figure size 640x480 with 1 Axes>"
      ]
     },
     "metadata": {},
     "output_type": "display_data"
    }
   ],
   "source": [
    "df.Purchase.hist()"
   ]
  },
  {
   "cell_type": "code",
   "execution_count": 30,
   "metadata": {},
   "outputs": [
    {
     "data": {
      "text/plain": [
       "<Axes: >"
      ]
     },
     "execution_count": 30,
     "metadata": {},
     "output_type": "execute_result"
    },
    {
     "data": {
      "image/png": "[encoded data removed]",
      "text/plain": [
       "<Figure size 640x480 with 1 Axes>"
      ]
     },
     "metadata": {},
     "output_type": "display_data"
    }
   ],
   "source": [
    "df.boxplot(column=['New_Age'])  \n"
   ]
  },
  {
   "cell_type": "code",
   "execution_count": 31,
   "metadata": {},
   "outputs": [
    {
     "data": {
      "text/plain": [
       "User_ID                       0.000000\n",
       "Product_ID                    0.000000\n",
       "Gender                        0.000000\n",
       "Age                           0.000000\n",
       "Occupation                    0.000000\n",
       "City_Category                 0.000000\n",
       "Stay_In_Current_City_Years    0.000000\n",
       "Marital_Status                0.000000\n",
       "Product_Category_1            0.000000\n",
       "Product_Category_2            0.315666\n",
       "Product_Category_3            0.696727\n",
       "Purchase                      0.000000\n",
       "New_Age                       0.000000\n",
       "dtype: float64"
      ]
     },
     "execution_count": 31,
     "metadata": {},
     "output_type": "execute_result"
    }
   ],
   "source": [
    "df.isnull().sum()/df.shape[0]\n"
   ]
  },
  {
   "cell_type": "code",
   "execution_count": 32,
   "metadata": {},
   "outputs": [],
   "source": [
    "### data manipulation for each type of model \n",
    "## Linear Regression\n",
    "    # No missing values \n",
    "    # Remove outliers \n",
    "# Ridge\n",
    "# Lasso \n",
    "# Elastic Net \n",
    "## KNN \n",
    "    # feature scaling \n",
    "    # Imputation \n",
    "## SVM\n",
    "    # Remove Outliers \n",
    "    # Remove missing values \n",
    "    # Scaling \n",
    "## Decision Tree\n",
    "## Random Forest\n",
    "## Gradient Boosted Tree\n",
    "## XG Boost\n",
    "## ANN  \n",
    "    # Imputation \n",
    "    # scaling\n",
    "    \n",
    "# fix scaling / avoid leakage --> pipelines? "
   ]
  },
  {
   "cell_type": "markdown",
   "metadata": {},
   "source": [
    "\" **Data Preprocessing**\"\n",
    "\n",
    "(1) Data imputation\n",
    "\n",
    "(2) Imputing & Outlier Removal\n",
    "\n",
    "(3) Imputing and Scaling\n",
    "\n",
    "(4) Imputing, Scaling, and Outlier Removal"
   ]
  },
  {
   "cell_type": "code",
   "execution_count": 33,
   "metadata": {},
   "outputs": [
    {
     "data": {
      "text/plain": [
       "Index(['User_ID', 'Product_ID', 'Gender', 'Age', 'Occupation', 'City_Category',\n",
       "       'Stay_In_Current_City_Years', 'Marital_Status', 'Product_Category_1',\n",
       "       'Product_Category_2', 'Product_Category_3', 'Purchase', 'New_Age'],\n",
       "      dtype='object')"
      ]
     },
     "execution_count": 33,
     "metadata": {},
     "output_type": "execute_result"
    }
   ],
   "source": [
    "df.columns\n"
   ]
  },
  {
   "cell_type": "code",
   "execution_count": 34,
   "metadata": {},
   "outputs": [],
   "source": [
    "# Fill imputed categories with value indicating it is nan - 21\n",
    "from sklearn.impute import SimpleImputer\n",
    "from sklearn.compose import ColumnTransformer\n",
    "\n",
    "cols_to_impute = ['Product_Category_1',\n",
    "                  'Product_Category_2',\n",
    "                  'Product_Category_3']\n",
    "\n",
    "cols_to_category = ['Gender',\n",
    "                    'Occupation',\n",
    "                    'City_Category',\n",
    "                    'Marital_Status',\n",
    "                    'Product_Category_1',\n",
    "                    'Product_Category_2',\n",
    "                    'Product_Category_3']\n",
    "\n",
    "cols_to_scale = ['New_Age',\n",
    "                 'Stay_In_Current_City_Years']"
   ]
  },
  {
   "cell_type": "markdown",
   "metadata": {},
   "source": [
    "## Impute NaN's\n"
   ]
  },
  {
   "cell_type": "code",
   "execution_count": 35,
   "metadata": {},
   "outputs": [],
   "source": [
    "\n",
    "categorical_imputer = SimpleImputer(strategy='constant', fill_value=21)\n",
    "\n",
    "impute_preprocessor = ColumnTransformer(\n",
    "    transformers=[\n",
    "        ('cat_impute', categorical_imputer, cols_to_impute),\n",
    "    ],remainder = 'passthrough',\n",
    "    verbose_feature_names_out= False).set_output(transform='pandas')"
   ]
  },
  {
   "cell_type": "code",
   "execution_count": 36,
   "metadata": {},
   "outputs": [],
   "source": [
    "## Convert Numeric to Categorical\n"
   ]
  },
  {
   "cell_type": "code",
   "execution_count": 37,
   "metadata": {},
   "outputs": [
    {
     "name": "stderr",
     "output_type": "stream",
     "text": [
      "c:\\Users\\sasi virat\\anaconda3\\envs\\myenv\\lib\\site-packages\\sklearn\\preprocessing\\_function_transformer.py:343: UserWarning: With transform=\"pandas\", `func` should return a DataFrame to follow the set_output API.\n",
      "  warnings.warn(\n"
     ]
    }
   ],
   "source": [
    "from sklearn.preprocessing import FunctionTransformer\n",
    "\n",
    "def to_category(x):\n",
    "    return pd.DataFrame(x).astype(\"category\")\n",
    "\n",
    "to_category = FunctionTransformer(to_category)\n",
    "\n",
    "category_preprocessor = ColumnTransformer(\n",
    "    transformers=[\n",
    "        ('cat_trans', to_category, cols_to_category),\n",
    "    ],remainder = 'passthrough', verbose_feature_names_out= False).set_output(transform='pandas')"
   ]
  },
  {
   "cell_type": "markdown",
   "metadata": {},
   "source": [
    "## Outlier Removal\n"
   ]
  },
  {
   "cell_type": "code",
   "execution_count": 39,
   "metadata": {},
   "outputs": [],
   "source": [
    "import scipy.stats\n",
    "#adjust for X & Y \n",
    "\n",
    "def z_score_removal(X,y, columns, z_score):\n",
    "    df = pd.concat([X, y], axis=1)\n",
    "    col_df = df[columns]    \n",
    "    z_scores = scipy.stats.zscore(col_df).abs()\n",
    "    outliers = (z_scores.max(axis=1) > z_score)\n",
    "    df_out = df[~outliers]\n",
    "    X_cleaned = df_out[X.columns]\n",
    "    y_cleaned = df_out.drop(X.columns, axis =1)\n",
    "    return X_cleaned, y_cleaned"
   ]
  },
  {
   "cell_type": "markdown",
   "metadata": {},
   "source": [
    "## Feature Engineering\n",
    "\n",
    "## Feature Scaling\n",
    "\n"
   ]
  },
  {
   "cell_type": "code",
   "execution_count": 40,
   "metadata": {},
   "outputs": [],
   "source": [
    "from sklearn.preprocessing import MinMaxScaler\n",
    "scaler = MinMaxScaler()\n",
    "\n",
    "\n",
    "scaling_preprocessor = ColumnTransformer(\n",
    "    transformers=[\n",
    "        ('min_max', scaler, cols_to_scale),\n",
    "    ],remainder = 'passthrough', verbose_feature_names_out= False).set_output(transform='pandas')\n",
    "  "
   ]
  },
  {
   "cell_type": "markdown",
   "metadata": {},
   "source": [
    "## Dummy Variables\n"
   ]
  },
  {
   "cell_type": "code",
   "execution_count": 41,
   "metadata": {},
   "outputs": [],
   "source": [
    "# Get Dummy variables \n",
    "from sklearn.preprocessing import OneHotEncoder\n",
    "oh_encoder = OneHotEncoder(sparse_output=False, drop='first',handle_unknown='ignore')\n",
    "onehot_preprocessor = ColumnTransformer(\n",
    "    transformers=[\n",
    "        ('onehot', oh_encoder, cols_to_category),\n",
    "    ],remainder = 'passthrough', verbose_feature_names_out= False).set_output(transform='pandas')\n",
    "  "
   ]
  },
  {
   "cell_type": "markdown",
   "metadata": {},
   "source": [
    "## Cross-Validation\n"
   ]
  },
  {
   "cell_type": "code",
   "execution_count": null,
   "metadata": {},
   "outputs": [],
   "source": []
  },
  {
   "cell_type": "code",
   "execution_count": 46,
   "metadata": {},
   "outputs": [],
   "source": [
    "#create train/ test split \n",
    "X = df.drop(['User_ID','Product_ID','Age','Purchase'], axis=1)\n",
    "y = df.loc[:,'Purchase']\n",
    "\n",
    "X_train, X_test, y_train, y_test = train_test_split(X, y, test_size=0.2, random_state=42)"
   ]
  },
  {
   "cell_type": "code",
   "execution_count": 48,
   "metadata": {},
   "outputs": [],
   "source": [
    "\n",
    "#########Data Impuation & Outlier Removal (Linear Regression) ###############\n",
    "#outlier removal function\n",
    "\n",
    "from sklearn.pipeline import Pipeline\n",
    "\n",
    "reg_pipe = Pipeline([\n",
    "    ('impute_trans', impute_preprocessor),\n",
    "    ('categorical_trans', category_preprocessor),\n",
    "    ('onehot', onehot_preprocessor)\n",
    "])\n",
    "\n",
    "X_Reg = reg_pipe.fit_transform(X_train)"
   ]
  },
  {
   "cell_type": "markdown",
   "metadata": {},
   "source": [
    "## **Modeling**\n"
   ]
  },
  {
   "cell_type": "markdown",
   "metadata": {},
   "source": [
    "## **Linear Regression**"
   ]
  },
  {
   "cell_type": "code",
   "execution_count": 53,
   "metadata": {},
   "outputs": [],
   "source": [
    "# Only remove outliers from the training set\n",
    "X_Reg_fin, y_reg_fin = z_score_removal(X_Reg,y_train,['New_Age','Purchase'],2)"
   ]
  },
  {
   "cell_type": "code",
   "execution_count": 54,
   "metadata": {},
   "outputs": [],
   "source": [
    "#running linear regression\n",
    "import statsmodels.api as sm\n",
    "\n",
    "sm_X = sm.add_constant(X_Reg_fin)\n",
    "sm_model_lr = sm.OLS(y_reg_fin, sm_X).fit()"
   ]
  },
  {
   "cell_type": "code",
   "execution_count": 55,
   "metadata": {},
   "outputs": [
    {
     "name": "stdout",
     "output_type": "stream",
     "text": [
      "                            OLS Regression Results                            \n",
      "==============================================================================\n",
      "Dep. Variable:               Purchase   R-squared:                       0.619\n",
      "Model:                            OLS   Adj. R-squared:                  0.619\n",
      "Method:                 Least Squares   F-statistic:                     8404.\n",
      "Date:                Thu, 26 Dec 2024   Prob (F-statistic):               0.00\n",
      "Time:                        14:37:57   Log-Likelihood:            -3.7140e+06\n",
      "No. Observations:              397858   AIC:                         7.428e+06\n",
      "Df Residuals:                  397780   BIC:                         7.429e+06\n",
      "Df Model:                          77                                         \n",
      "Covariance Type:            nonrobust                                         \n",
      "==============================================================================================\n",
      "                                 coef    std err          t      P>|t|      [0.025      0.975]\n",
      "----------------------------------------------------------------------------------------------\n",
      "const                       1.245e+04    136.649     91.122      0.000    1.22e+04    1.27e+04\n",
      "Gender_M                     -48.9900     10.581     -4.630      0.000     -69.728     -28.252\n",
      "Occupation_1                 -22.5045     19.281     -1.167      0.243     -60.294      15.285\n",
      "Occupation_2                   7.6531     23.028      0.332      0.740     -37.482      52.788\n",
      "Occupation_3                 184.0979     27.121      6.788      0.000     130.941     237.255\n",
      "Occupation_4                 126.0642     17.443      7.227      0.000      91.877     160.251\n",
      "Occupation_5                  48.1086     30.929      1.555      0.120     -12.510     108.728\n",
      "Occupation_6                 195.3061     25.640      7.617      0.000     145.053     245.559\n",
      "Occupation_7                  91.1535     18.038      5.053      0.000      55.799     126.508\n",
      "Occupation_8                -168.2889     85.458     -1.969      0.049    -335.785      -0.793\n",
      "Occupation_9                 148.1697     42.440      3.491      0.000      64.989     231.351\n",
      "Occupation_10                155.9046     40.593      3.841      0.000      76.344     235.465\n",
      "Occupation_11                 83.3109     31.913      2.611      0.009      20.762     145.860\n",
      "Occupation_12                261.6811     21.777     12.017      0.000     219.000     304.362\n",
      "Occupation_13                -35.2815     54.437     -0.648      0.517    -141.977      71.414\n",
      "Occupation_14                207.0081     22.977      9.009      0.000     161.973     252.043\n",
      "Occupation_15                326.8803     31.694     10.314      0.000     264.762     388.999\n",
      "Occupation_16                169.3454     23.852      7.100      0.000     122.596     216.095\n",
      "Occupation_17                199.1972     20.272      9.826      0.000     159.464     238.930\n",
      "Occupation_18                 65.8762     40.613      1.622      0.105     -13.723     145.476\n",
      "Occupation_19               -317.8750     37.752     -8.420      0.000    -391.867    -243.883\n",
      "Occupation_20               -128.4156     21.199     -6.058      0.000    -169.965     -86.867\n",
      "City_Category_B              110.8230     10.699     10.359      0.000      89.854     131.792\n",
      "City_Category_C              457.5136     11.728     39.009      0.000     434.526     480.501\n",
      "Marital_Status_1             -53.3582      9.281     -5.749      0.000     -71.549     -35.167\n",
      "Product_Category_1_2.0     -1166.2013     29.111    -40.061      0.000   -1223.257   -1109.146\n",
      "Product_Category_1_3.0     -1637.4889     40.312    -40.620      0.000   -1716.499   -1558.478\n",
      "Product_Category_1_4.0     -1.029e+04     36.461   -282.277      0.000   -1.04e+04   -1.02e+04\n",
      "Product_Category_1_5.0     -6606.7206     16.383   -403.271      0.000   -6638.830   -6574.611\n",
      "Product_Category_1_6.0       816.2463     31.845     25.632      0.000     753.831     878.662\n",
      "Product_Category_1_7.0      1418.3961     65.385     21.693      0.000    1290.244    1546.548\n",
      "Product_Category_1_8.0     -5358.7280     17.389   -308.170      0.000   -5392.810   -5324.646\n",
      "Product_Category_1_9.0      1009.7140    174.898      5.773      0.000     666.919    1352.509\n",
      "Product_Category_1_10.0     3838.5523     63.016     60.914      0.000    3715.043    3962.061\n",
      "Product_Category_1_11.0    -8089.5331     24.264   -333.392      0.000   -8137.091   -8041.976\n",
      "Product_Category_1_12.0    -1.148e+04     53.356   -215.161      0.000   -1.16e+04   -1.14e+04\n",
      "Product_Category_1_13.0    -1.218e+04     44.836   -271.640      0.000   -1.23e+04   -1.21e+04\n",
      "Product_Category_1_14.0      276.8880     82.383      3.361      0.001     115.419     438.357\n",
      "Product_Category_1_15.0     -322.6791     48.389     -6.668      0.000    -417.520    -227.838\n",
      "Product_Category_1_16.0      550.3312     39.066     14.087      0.000     473.764     626.898\n",
      "Product_Category_1_17.0    -2723.8787    134.493    -20.253      0.000   -2987.481   -2460.276\n",
      "Product_Category_1_18.0    -9853.0816     59.077   -166.785      0.000   -9968.870   -9737.293\n",
      "Product_Category_1_19.0    -1.287e+04     81.310   -158.332      0.000    -1.3e+04   -1.27e+04\n",
      "Product_Category_1_20.0    -1.252e+04     64.884   -192.931      0.000   -1.26e+04   -1.24e+04\n",
      "Product_Category_2_3.0      1230.5013     93.708     13.131      0.000    1046.836    1414.166\n",
      "Product_Category_2_4.0     -1514.0642     41.412    -36.561      0.000   -1595.230   -1432.899\n",
      "Product_Category_2_5.0      -580.2259     31.338    -18.515      0.000    -641.647    -518.805\n",
      "Product_Category_2_6.0        -7.3227     32.106     -0.228      0.820     -70.249      55.603\n",
      "Product_Category_2_7.0       717.3594    128.010      5.604      0.000     466.464     968.254\n",
      "Product_Category_2_8.0       252.0134     26.046      9.676      0.000     200.965     303.062\n",
      "Product_Category_2_9.0      -187.8105     48.040     -3.909      0.000    -281.967     -93.654\n",
      "Product_Category_2_10.0      963.0133     80.645     11.941      0.000     804.952    1121.074\n",
      "Product_Category_2_11.0     -368.3696     33.769    -10.908      0.000    -434.557    -302.183\n",
      "Product_Category_2_12.0     -397.6438     49.243     -8.075      0.000    -494.159    -301.129\n",
      "Product_Category_2_13.0     -179.1160     40.320     -4.442      0.000    -258.143    -100.089\n",
      "Product_Category_2_14.0     -136.5850     27.709     -4.929      0.000    -190.893     -82.277\n",
      "Product_Category_2_15.0     -193.2416     27.589     -7.004      0.000    -247.315    -139.168\n",
      "Product_Category_2_16.0      143.6561     28.001      5.130      0.000      88.775     198.537\n",
      "Product_Category_2_17.0      440.2108     36.941     11.917      0.000     367.807     512.614\n",
      "Product_Category_2_18.0      462.5695     66.486      6.957      0.000     332.259     592.880\n",
      "Product_Category_2_21.0      -31.4756     25.599     -1.230      0.219     -81.649      18.698\n",
      "Product_Category_3_4.0     -3447.5051    166.511    -20.704      0.000   -3773.862   -3121.149\n",
      "Product_Category_3_5.0       340.4706    137.878      2.469      0.014      70.233     610.708\n",
      "Product_Category_3_6.0        -4.1370    143.875     -0.029      0.977    -286.128     277.854\n",
      "Product_Category_3_8.0      1231.1262    139.184      8.845      0.000     958.330    1503.922\n",
      "Product_Category_3_9.0        97.5434    138.930      0.702      0.483    -174.754     369.841\n",
      "Product_Category_3_10.0     -668.8255    167.798     -3.986      0.000    -997.704    -339.947\n",
      "Product_Category_3_11.0     -548.4076    154.625     -3.547      0.000    -851.469    -245.346\n",
      "Product_Category_3_12.0       85.4580    140.518      0.608      0.543    -189.953     360.869\n",
      "Product_Category_3_13.0     -592.5718    144.183     -4.110      0.000    -875.167    -309.977\n",
      "Product_Category_3_14.0      -91.2953    137.988     -0.662      0.508    -361.747     179.157\n",
      "Product_Category_3_15.0     -405.0340    136.425     -2.969      0.003    -672.423    -137.645\n",
      "Product_Category_3_16.0     -104.7131    137.335     -0.762      0.446    -373.886     164.460\n",
      "Product_Category_3_17.0      620.2919    138.898      4.466      0.000     348.057     892.527\n",
      "Product_Category_3_18.0      -32.7710    144.319     -0.227      0.820    -315.631     250.089\n",
      "Product_Category_3_21.0     -219.0058    136.419     -1.605      0.108    -486.383      48.372\n",
      "Stay_In_Current_City_Years     7.3801      3.384      2.181      0.029       0.748      14.012\n",
      "New_Age                       10.7612      0.513     20.965      0.000       9.755      11.767\n",
      "==============================================================================\n",
      "Omnibus:                    32902.387   Durbin-Watson:                   1.998\n",
      "Prob(Omnibus):                  0.000   Jarque-Bera (JB):            49849.063\n",
      "Skew:                          -0.653   Prob(JB):                         0.00\n",
      "Kurtosis:                       4.142   Cond. No.                     4.39e+03\n",
      "==============================================================================\n",
      "\n",
      "Notes:\n",
      "[1] Standard Errors assume that the covariance matrix of the errors is correctly specified.\n",
      "[2] The condition number is large, 4.39e+03. This might indicate that there are\n",
      "strong multicollinearity or other numerical problems.\n"
     ]
    }
   ],
   "source": [
    "print(sm_model_lr.summary())\n"
   ]
  },
  {
   "cell_type": "code",
   "execution_count": 56,
   "metadata": {},
   "outputs": [
    {
     "data": {
      "text/html": [
       "<style>#sk-container-id-1 {color: black;background-color: white;}#sk-container-id-1 pre{padding: 0;}#sk-container-id-1 div.sk-toggleable {background-color: white;}#sk-container-id-1 label.sk-toggleable__label {cursor: pointer;display: block;width: 100%;margin-bottom: 0;padding: 0.3em;box-sizing: border-box;text-align: center;}#sk-container-id-1 label.sk-toggleable__label-arrow:before {content: \"▸\";float: left;margin-right: 0.25em;color: #696969;}#sk-container-id-1 label.sk-toggleable__label-arrow:hover:before {color: black;}#sk-container-id-1 div.sk-estimator:hover label.sk-toggleable__label-arrow:before {color: black;}#sk-container-id-1 div.sk-toggleable__content {max-height: 0;max-width: 0;overflow: hidden;text-align: left;background-color: #f0f8ff;}#sk-container-id-1 div.sk-toggleable__content pre {margin: 0.2em;color: black;border-radius: 0.25em;background-color: #f0f8ff;}#sk-container-id-1 input.sk-toggleable__control:checked~div.sk-toggleable__content {max-height: 200px;max-width: 100%;overflow: auto;}#sk-container-id-1 input.sk-toggleable__control:checked~label.sk-toggleable__label-arrow:before {content: \"▾\";}#sk-container-id-1 div.sk-estimator input.sk-toggleable__control:checked~label.sk-toggleable__label {background-color: #d4ebff;}#sk-container-id-1 div.sk-label input.sk-toggleable__control:checked~label.sk-toggleable__label {background-color: #d4ebff;}#sk-container-id-1 input.sk-hidden--visually {border: 0;clip: rect(1px 1px 1px 1px);clip: rect(1px, 1px, 1px, 1px);height: 1px;margin: -1px;overflow: hidden;padding: 0;position: absolute;width: 1px;}#sk-container-id-1 div.sk-estimator {font-family: monospace;background-color: #f0f8ff;border: 1px dotted black;border-radius: 0.25em;box-sizing: border-box;margin-bottom: 0.5em;}#sk-container-id-1 div.sk-estimator:hover {background-color: #d4ebff;}#sk-container-id-1 div.sk-parallel-item::after {content: \"\";width: 100%;border-bottom: 1px solid gray;flex-grow: 1;}#sk-container-id-1 div.sk-label:hover label.sk-toggleable__label {background-color: #d4ebff;}#sk-container-id-1 div.sk-serial::before {content: \"\";position: absolute;border-left: 1px solid gray;box-sizing: border-box;top: 0;bottom: 0;left: 50%;z-index: 0;}#sk-container-id-1 div.sk-serial {display: flex;flex-direction: column;align-items: center;background-color: white;padding-right: 0.2em;padding-left: 0.2em;position: relative;}#sk-container-id-1 div.sk-item {position: relative;z-index: 1;}#sk-container-id-1 div.sk-parallel {display: flex;align-items: stretch;justify-content: center;background-color: white;position: relative;}#sk-container-id-1 div.sk-item::before, #sk-container-id-1 div.sk-parallel-item::before {content: \"\";position: absolute;border-left: 1px solid gray;box-sizing: border-box;top: 0;bottom: 0;left: 50%;z-index: -1;}#sk-container-id-1 div.sk-parallel-item {display: flex;flex-direction: column;z-index: 1;position: relative;background-color: white;}#sk-container-id-1 div.sk-parallel-item:first-child::after {align-self: flex-end;width: 50%;}#sk-container-id-1 div.sk-parallel-item:last-child::after {align-self: flex-start;width: 50%;}#sk-container-id-1 div.sk-parallel-item:only-child::after {width: 0;}#sk-container-id-1 div.sk-dashed-wrapped {border: 1px dashed gray;margin: 0 0.4em 0.5em 0.4em;box-sizing: border-box;padding-bottom: 0.4em;background-color: white;}#sk-container-id-1 div.sk-label label {font-family: monospace;font-weight: bold;display: inline-block;line-height: 1.2em;}#sk-container-id-1 div.sk-label-container {text-align: center;}#sk-container-id-1 div.sk-container {/* jupyter's `normalize.less` sets `[hidden] { display: none; }` but bootstrap.min.css set `[hidden] { display: none !important; }` so we also need the `!important` here to be able to override the default hidden behavior on the sphinx rendered scikit-learn.org. See: https://github.com/scikit-learn/scikit-learn/issues/21755 */display: inline-block !important;position: relative;}#sk-container-id-1 div.sk-text-repr-fallback {display: none;}</style><div id=\"sk-container-id-1\" class=\"sk-top-container\"><div class=\"sk-text-repr-fallback\"><pre>LinearRegression()</pre><b>In a Jupyter environment, please rerun this cell to show the HTML representation or trust the notebook. <br />On GitHub, the HTML representation is unable to render, please try loading this page with nbviewer.org.</b></div><div class=\"sk-container\" hidden><div class=\"sk-item\"><div class=\"sk-estimator sk-toggleable\"><input class=\"sk-toggleable__control sk-hidden--visually\" id=\"sk-estimator-id-1\" type=\"checkbox\" checked><label for=\"sk-estimator-id-1\" class=\"sk-toggleable__label sk-toggleable__label-arrow\">LinearRegression</label><div class=\"sk-toggleable__content\"><pre>LinearRegression()</pre></div></div></div></div></div>"
      ],
      "text/plain": [
       "LinearRegression()"
      ]
     },
     "execution_count": 56,
     "metadata": {},
     "output_type": "execute_result"
    }
   ],
   "source": [
    "from sklearn.linear_model import LinearRegression\n",
    "model_lr = LinearRegression()\n",
    "\n",
    "model_lr.fit(X_Reg_fin, y_reg_fin)"
   ]
  },
  {
   "cell_type": "code",
   "execution_count": 57,
   "metadata": {},
   "outputs": [
    {
     "name": "stdout",
     "output_type": "stream",
     "text": [
      "[-7518479.54491493 -7523014.62981981 -7501877.76204618]\n"
     ]
    }
   ],
   "source": [
    "from sklearn.model_selection import cross_val_score\n",
    "lr_scores = cross_val_score(model_lr, X_Reg_fin, y_reg_fin, cv=3, scoring='neg_mean_squared_error')\n",
    "print(lr_scores)"
   ]
  },
  {
   "cell_type": "code",
   "execution_count": 58,
   "metadata": {},
   "outputs": [],
   "source": [
    "#########Data Impuation, Outlier Removal, & Scaling (Ridge, Lasso, Elastic NEt, SVM) ###############\n",
    "rr_pipe = Pipeline([\n",
    "    ('impute_trans', impute_preprocessor),\n",
    "    ('categorical_trans', category_preprocessor),\n",
    "    ('feat_scaling', scaling_preprocessor),\n",
    "    ('onehot', onehot_preprocessor)\n",
    "])\n",
    "\n",
    "X_rr = rr_pipe.fit_transform(X_train)\n",
    "X_rr_fin, y_rr_fin = z_score_removal(X_rr,y_train,['New_Age','Purchase'],2)"
   ]
  },
  {
   "cell_type": "markdown",
   "metadata": {},
   "source": [
    "## Linear Regression + Regularization\n"
   ]
  },
  {
   "cell_type": "code",
   "execution_count": 60,
   "metadata": {},
   "outputs": [
    {
     "name": "stdout",
     "output_type": "stream",
     "text": [
      "[-7523045.22039712 -7531709.14666194 -7515464.14871019]\n",
      "[-7518359.80156523 -7523057.36949733 -7501911.23763842]\n",
      "[-16448558.32772285 -16648036.7447575  -16602902.50038427]\n"
     ]
    }
   ],
   "source": [
    "#Code for running ridge regression \n",
    "from sklearn.linear_model import Lasso, Ridge, ElasticNet \n",
    "\n",
    "lasso_model = Lasso()\n",
    "ridge_model = Ridge()\n",
    "en_model = ElasticNet() \n",
    "\n",
    "la_scores = cross_val_score(lasso_model, X_rr_fin, y_rr_fin, cv=3, scoring='neg_mean_squared_error')\n",
    "print(la_scores)\n",
    "r_scores = cross_val_score(ridge_model, X_rr_fin, y_rr_fin, cv=3, scoring='neg_mean_squared_error')\n",
    "print(r_scores)\n",
    "en_scores = cross_val_score(en_model, X_rr_fin, y_rr_fin, cv=3, scoring='neg_mean_squared_error')\n",
    "print(en_scores)"
   ]
  },
  {
   "cell_type": "markdown",
   "metadata": {},
   "source": [
    "## Hyperparameter Tuning - Lasso and Ridge Regression\n"
   ]
  },
  {
   "cell_type": "markdown",
   "metadata": {},
   "source": [
    "L1 vs L2 Regularization: L1 regularization (Lasso) tends to produce sparse solutions, driving some coefficients to zero and performing feature selection, while L2 regularization (Ridge) produces solutions with small coefficients but does not drive them to zero, distributing the weights among correlated features.\n",
    "\n",
    "**Relevant Parameters**:\n",
    "\n",
    "**alpha**: Regularization strength; must be a positive float. Regularization improves the conditioning of the problem and reduces the variance of the estimates. Larger values specify stronger regularization.\n",
    "\n",
    "**fit_intercept**: Whether to calculate the intercept for this model. If set to False, no intercept will be used in calculations (i.e., data is expected to be centered).\n",
    "\n",
    "**normalize**: This parameter is ignored when fit_intercept is set to False. If True, the regressors X will be normalized before regression by subtracting the mean and dividing by the L2-norm.\n",
    "\n",
    "**max_iter**: Maximum number of iterations for conjugate gradient solver."
   ]
  },
  {
   "cell_type": "code",
   "execution_count": 61,
   "metadata": {},
   "outputs": [
    {
     "name": "stdout",
     "output_type": "stream",
     "text": [
      "Best alpha value: 1\n",
      "Best negative mean squared error: -7514625.885351087\n",
      "Best model test R^2 score: 0.6193012318033952\n"
     ]
    },
    {
     "name": "stderr",
     "output_type": "stream",
     "text": [
      "c:\\Users\\sasi virat\\anaconda3\\envs\\myenv\\lib\\site-packages\\sklearn\\linear_model\\_coordinate_descent.py:631: ConvergenceWarning: Objective did not converge. You might want to increase the number of iterations, check the scale of the features or consider increasing regularisation. Duality gap: 1.134e+12, tolerance: 6.287e+08\n",
      "  model = cd_fast.enet_coordinate_descent(\n",
      "c:\\Users\\sasi virat\\anaconda3\\envs\\myenv\\lib\\site-packages\\sklearn\\linear_model\\_coordinate_descent.py:631: ConvergenceWarning: Objective did not converge. You might want to increase the number of iterations, check the scale of the features or consider increasing regularisation. Duality gap: 1.174e+12, tolerance: 6.284e+08\n",
      "  model = cd_fast.enet_coordinate_descent(\n",
      "c:\\Users\\sasi virat\\anaconda3\\envs\\myenv\\lib\\site-packages\\sklearn\\linear_model\\_coordinate_descent.py:631: ConvergenceWarning: Objective did not converge. You might want to increase the number of iterations, check the scale of the features or consider increasing regularisation. Duality gap: 1.138e+12, tolerance: 6.278e+08\n",
      "  model = cd_fast.enet_coordinate_descent(\n",
      "c:\\Users\\sasi virat\\anaconda3\\envs\\myenv\\lib\\site-packages\\sklearn\\linear_model\\_coordinate_descent.py:631: ConvergenceWarning: Objective did not converge. You might want to increase the number of iterations, check the scale of the features or consider increasing regularisation. Duality gap: 1.146e+12, tolerance: 6.274e+08\n",
      "  model = cd_fast.enet_coordinate_descent(\n",
      "c:\\Users\\sasi virat\\anaconda3\\envs\\myenv\\lib\\site-packages\\sklearn\\linear_model\\_coordinate_descent.py:631: ConvergenceWarning: Objective did not converge. You might want to increase the number of iterations, check the scale of the features or consider increasing regularisation. Duality gap: 2.089e+11, tolerance: 6.275e+08\n",
      "  model = cd_fast.enet_coordinate_descent(\n",
      "c:\\Users\\sasi virat\\anaconda3\\envs\\myenv\\lib\\site-packages\\sklearn\\linear_model\\_coordinate_descent.py:631: ConvergenceWarning: Objective did not converge. You might want to increase the number of iterations, check the scale of the features or consider increasing regularisation. Duality gap: 7.530e+11, tolerance: 6.287e+08\n",
      "  model = cd_fast.enet_coordinate_descent(\n",
      "c:\\Users\\sasi virat\\anaconda3\\envs\\myenv\\lib\\site-packages\\sklearn\\linear_model\\_coordinate_descent.py:631: ConvergenceWarning: Objective did not converge. You might want to increase the number of iterations, check the scale of the features or consider increasing regularisation. Duality gap: 9.999e+11, tolerance: 6.284e+08\n",
      "  model = cd_fast.enet_coordinate_descent(\n",
      "c:\\Users\\sasi virat\\anaconda3\\envs\\myenv\\lib\\site-packages\\sklearn\\linear_model\\_coordinate_descent.py:631: ConvergenceWarning: Objective did not converge. You might want to increase the number of iterations, check the scale of the features or consider increasing regularisation. Duality gap: 7.635e+11, tolerance: 6.278e+08\n",
      "  model = cd_fast.enet_coordinate_descent(\n",
      "c:\\Users\\sasi virat\\anaconda3\\envs\\myenv\\lib\\site-packages\\sklearn\\linear_model\\_coordinate_descent.py:631: ConvergenceWarning: Objective did not converge. You might want to increase the number of iterations, check the scale of the features or consider increasing regularisation. Duality gap: 8.200e+11, tolerance: 6.274e+08\n",
      "  model = cd_fast.enet_coordinate_descent(\n",
      "c:\\Users\\sasi virat\\anaconda3\\envs\\myenv\\lib\\site-packages\\sklearn\\linear_model\\_coordinate_descent.py:631: ConvergenceWarning: Objective did not converge. You might want to increase the number of iterations, check the scale of the features or consider increasing regularisation. Duality gap: 4.351e+09, tolerance: 6.275e+08\n",
      "  model = cd_fast.enet_coordinate_descent(\n",
      "c:\\Users\\sasi virat\\anaconda3\\envs\\myenv\\lib\\site-packages\\sklearn\\linear_model\\_coordinate_descent.py:631: ConvergenceWarning: Objective did not converge. You might want to increase the number of iterations, check the scale of the features or consider increasing regularisation. Duality gap: 8.905e+10, tolerance: 6.287e+08\n",
      "  model = cd_fast.enet_coordinate_descent(\n",
      "c:\\Users\\sasi virat\\anaconda3\\envs\\myenv\\lib\\site-packages\\sklearn\\linear_model\\_coordinate_descent.py:631: ConvergenceWarning: Objective did not converge. You might want to increase the number of iterations, check the scale of the features or consider increasing regularisation. Duality gap: 3.020e+11, tolerance: 6.284e+08\n",
      "  model = cd_fast.enet_coordinate_descent(\n",
      "c:\\Users\\sasi virat\\anaconda3\\envs\\myenv\\lib\\site-packages\\sklearn\\linear_model\\_coordinate_descent.py:631: ConvergenceWarning: Objective did not converge. You might want to increase the number of iterations, check the scale of the features or consider increasing regularisation. Duality gap: 8.497e+10, tolerance: 6.278e+08\n",
      "  model = cd_fast.enet_coordinate_descent(\n",
      "c:\\Users\\sasi virat\\anaconda3\\envs\\myenv\\lib\\site-packages\\sklearn\\linear_model\\_coordinate_descent.py:631: ConvergenceWarning: Objective did not converge. You might want to increase the number of iterations, check the scale of the features or consider increasing regularisation. Duality gap: 1.167e+11, tolerance: 6.274e+08\n",
      "  model = cd_fast.enet_coordinate_descent(\n",
      "c:\\Users\\sasi virat\\anaconda3\\envs\\myenv\\lib\\site-packages\\sklearn\\linear_model\\_coordinate_descent.py:631: ConvergenceWarning: Objective did not converge. You might want to increase the number of iterations, check the scale of the features or consider increasing regularisation. Duality gap: 9.607e+08, tolerance: 6.287e+08\n",
      "  model = cd_fast.enet_coordinate_descent(\n",
      "c:\\Users\\sasi virat\\anaconda3\\envs\\myenv\\lib\\site-packages\\sklearn\\linear_model\\_coordinate_descent.py:631: ConvergenceWarning: Objective did not converge. You might want to increase the number of iterations, check the scale of the features or consider increasing regularisation. Duality gap: 6.804e+08, tolerance: 6.284e+08\n",
      "  model = cd_fast.enet_coordinate_descent(\n"
     ]
    },
    {
     "name": "stdout",
     "output_type": "stream",
     "text": [
      "Best alpha value: 0.01\n",
      "Best negative mean squared error: -7514582.044296277\n",
      "Best model test R^2 score: 0.6193011998792641\n"
     ]
    }
   ],
   "source": [
    "from sklearn.model_selection import GridSearchCV\n",
    "\n",
    "alpha_values = [1e-5, 1e-4, 1e-3, 1e-2, 1e-1, 1, 10, 100, 1000, 10000]\n",
    "\n",
    "param_grid = {'alpha': alpha_values}\n",
    "grid_search_ridge = GridSearchCV(ridge_model, param_grid, cv=5, scoring='neg_mean_squared_error')\n",
    "grid_search_ridge.fit(X_rr_fin, y_rr_fin)\n",
    "test_score_ridge = grid_search_ridge.best_estimator_.score(X_rr_fin, y_rr_fin)\n",
    "\n",
    "\n",
    "print(f\"Best alpha value: {grid_search_ridge.best_params_['alpha']}\")\n",
    "print(f\"Best negative mean squared error: {grid_search_ridge.best_score_}\")\n",
    "print(f\"Best model test R^2 score: {test_score_ridge}\")\n",
    "\n",
    "\n",
    "param_grid = {'alpha': alpha_values}\n",
    "grid_search_lasso = GridSearchCV(lasso_model, param_grid, cv=5, scoring='neg_mean_squared_error')\n",
    "grid_search_lasso.fit(X_rr_fin, y_rr_fin)\n",
    "test_score_lasso = grid_search_lasso.best_estimator_.score(X_rr_fin, y_rr_fin)\n",
    "\n",
    "print(f\"Best alpha value: {grid_search_lasso.best_params_['alpha']}\")\n",
    "print(f\"Best negative mean squared error: {grid_search_lasso.best_score_}\")\n",
    "print(f\"Best model test R^2 score: {test_score_lasso}\")"
   ]
  },
  {
   "cell_type": "markdown",
   "metadata": {},
   "source": [
    "## Hyperparameter Tuning - Elastic Net Regression\n",
    "Elastic Net Regression is a linear regression model that combines L1 and L2 regularization, balancing the sparsity-inducing property of Lasso and the smoothness of Ridge Regression. It is particularly useful when there are multiple correlated features in the dataset.\n",
    "\n",
    "Relevant Parameters:\n",
    "\n",
    "**alpha**: Regularization strength; must be a positive float. Regularization improves the conditioning of the problem and reduces the variance of the estimates. Larger values specify stronger regularization. alpha is the combined weight of both L1 and L2 regularization terms.\n",
    "\n",
    "**l1_ratio**: The mixing parameter between L1 and L2 regularization, with a value between 0 and 1. A value of 0 corresponds to Ridge Regression (pure L2 penalty), and a value of 1 corresponds to Lasso Regression (pure L1 penalty). Values between 0 and 1 give a mix of both L1 and L2 regularization.\n",
    "\n",
    "**fit_intercept**: Whether to calculate the intercept for this model. If set to False, no intercept will be used in calculations (i.e., data is expected to be centered).\n",
    "normalize: This parameter is ignored when fit_intercept is set to False. If True, the regressors X will be normalized before regression by subtracting the mean and dividing by the L2-norm.\n",
    "\n",
    "**max_iter**: Maximum number of iterations for the coordinate descent solver.\n",
    "\n",
    "By tuning alpha and l1_ratio, you can control the balance between L1 and L2 regularization and find the optimal trade-off for your specific problem."
   ]
  },
  {
   "cell_type": "code",
   "execution_count": null,
   "metadata": {},
   "outputs": [
    {
     "name": "stderr",
     "output_type": "stream",
     "text": [
      "c:\\Users\\sasi virat\\anaconda3\\envs\\myenv\\lib\\site-packages\\sklearn\\linear_model\\_coordinate_descent.py:631: ConvergenceWarning: Objective did not converge. You might want to increase the number of iterations, check the scale of the features or consider increasing regularisation. Duality gap: 1.195e+12, tolerance: 6.287e+08 Linear regression models with null weight for the l1 regularization term are more efficiently fitted using one of the solvers implemented in sklearn.linear_model.Ridge/RidgeCV instead.\n",
      "  model = cd_fast.enet_coordinate_descent(\n",
      "c:\\Users\\sasi virat\\anaconda3\\envs\\myenv\\lib\\site-packages\\sklearn\\linear_model\\_coordinate_descent.py:631: ConvergenceWarning: Objective did not converge. You might want to increase the number of iterations, check the scale of the features or consider increasing regularisation. Duality gap: 1.198e+12, tolerance: 6.284e+08 Linear regression models with null weight for the l1 regularization term are more efficiently fitted using one of the solvers implemented in sklearn.linear_model.Ridge/RidgeCV instead.\n",
      "  model = cd_fast.enet_coordinate_descent(\n",
      "c:\\Users\\sasi virat\\anaconda3\\envs\\myenv\\lib\\site-packages\\sklearn\\linear_model\\_coordinate_descent.py:631: ConvergenceWarning: Objective did not converge. You might want to increase the number of iterations, check the scale of the features or consider increasing regularisation. Duality gap: 1.197e+12, tolerance: 6.278e+08 Linear regression models with null weight for the l1 regularization term are more efficiently fitted using one of the solvers implemented in sklearn.linear_model.Ridge/RidgeCV instead.\n",
      "  model = cd_fast.enet_coordinate_descent(\n",
      "c:\\Users\\sasi virat\\anaconda3\\envs\\myenv\\lib\\site-packages\\sklearn\\linear_model\\_coordinate_descent.py:631: ConvergenceWarning: Objective did not converge. You might want to increase the number of iterations, check the scale of the features or consider increasing regularisation. Duality gap: 1.195e+12, tolerance: 6.274e+08 Linear regression models with null weight for the l1 regularization term are more efficiently fitted using one of the solvers implemented in sklearn.linear_model.Ridge/RidgeCV instead.\n",
      "  model = cd_fast.enet_coordinate_descent(\n",
      "c:\\Users\\sasi virat\\anaconda3\\envs\\myenv\\lib\\site-packages\\sklearn\\linear_model\\_coordinate_descent.py:631: ConvergenceWarning: Objective did not converge. You might want to increase the number of iterations, check the scale of the features or consider increasing regularisation. Duality gap: 1.198e+12, tolerance: 6.275e+08 Linear regression models with null weight for the l1 regularization term are more efficiently fitted using one of the solvers implemented in sklearn.linear_model.Ridge/RidgeCV instead.\n",
      "  model = cd_fast.enet_coordinate_descent(\n",
      "c:\\Users\\sasi virat\\anaconda3\\envs\\myenv\\lib\\site-packages\\sklearn\\linear_model\\_coordinate_descent.py:631: ConvergenceWarning: Objective did not converge. You might want to increase the number of iterations, check the scale of the features or consider increasing regularisation. Duality gap: 1.184e+12, tolerance: 6.287e+08\n",
      "  model = cd_fast.enet_coordinate_descent(\n",
      "c:\\Users\\sasi virat\\anaconda3\\envs\\myenv\\lib\\site-packages\\sklearn\\linear_model\\_coordinate_descent.py:631: ConvergenceWarning: Objective did not converge. You might want to increase the number of iterations, check the scale of the features or consider increasing regularisation. Duality gap: 1.194e+12, tolerance: 6.284e+08\n",
      "  model = cd_fast.enet_coordinate_descent(\n",
      "c:\\Users\\sasi virat\\anaconda3\\envs\\myenv\\lib\\site-packages\\sklearn\\linear_model\\_coordinate_descent.py:631: ConvergenceWarning: Objective did not converge. You might want to increase the number of iterations, check the scale of the features or consider increasing regularisation. Duality gap: 1.187e+12, tolerance: 6.278e+08\n",
      "  model = cd_fast.enet_coordinate_descent(\n",
      "c:\\Users\\sasi virat\\anaconda3\\envs\\myenv\\lib\\site-packages\\sklearn\\linear_model\\_coordinate_descent.py:631: ConvergenceWarning: Objective did not converge. You might want to increase the number of iterations, check the scale of the features or consider increasing regularisation. Duality gap: 1.186e+12, tolerance: 6.274e+08\n",
      "  model = cd_fast.enet_coordinate_descent(\n",
      "c:\\Users\\sasi virat\\anaconda3\\envs\\myenv\\lib\\site-packages\\sklearn\\linear_model\\_coordinate_descent.py:631: ConvergenceWarning: Objective did not converge. You might want to increase the number of iterations, check the scale of the features or consider increasing regularisation. Duality gap: 1.056e+12, tolerance: 6.275e+08\n",
      "  model = cd_fast.enet_coordinate_descent(\n",
      "c:\\Users\\sasi virat\\anaconda3\\envs\\myenv\\lib\\site-packages\\sklearn\\linear_model\\_coordinate_descent.py:631: ConvergenceWarning: Objective did not converge. You might want to increase the number of iterations, check the scale of the features or consider increasing regularisation. Duality gap: 1.174e+12, tolerance: 6.287e+08\n",
      "  model = cd_fast.enet_coordinate_descent(\n",
      "c:\\Users\\sasi virat\\anaconda3\\envs\\myenv\\lib\\site-packages\\sklearn\\linear_model\\_coordinate_descent.py:631: ConvergenceWarning: Objective did not converge. You might want to increase the number of iterations, check the scale of the features or consider increasing regularisation. Duality gap: 1.190e+12, tolerance: 6.284e+08\n",
      "  model = cd_fast.enet_coordinate_descent(\n",
      "c:\\Users\\sasi virat\\anaconda3\\envs\\myenv\\lib\\site-packages\\sklearn\\linear_model\\_coordinate_descent.py:631: ConvergenceWarning: Objective did not converge. You might want to increase the number of iterations, check the scale of the features or consider increasing regularisation. Duality gap: 1.177e+12, tolerance: 6.278e+08\n",
      "  model = cd_fast.enet_coordinate_descent(\n",
      "c:\\Users\\sasi virat\\anaconda3\\envs\\myenv\\lib\\site-packages\\sklearn\\linear_model\\_coordinate_descent.py:631: ConvergenceWarning: Objective did not converge. You might want to increase the number of iterations, check the scale of the features or consider increasing regularisation. Duality gap: 1.178e+12, tolerance: 6.274e+08\n",
      "  model = cd_fast.enet_coordinate_descent(\n",
      "c:\\Users\\sasi virat\\anaconda3\\envs\\myenv\\lib\\site-packages\\sklearn\\linear_model\\_coordinate_descent.py:631: ConvergenceWarning: Objective did not converge. You might want to increase the number of iterations, check the scale of the features or consider increasing regularisation. Duality gap: 9.338e+11, tolerance: 6.275e+08\n",
      "  model = cd_fast.enet_coordinate_descent(\n",
      "c:\\Users\\sasi virat\\anaconda3\\envs\\myenv\\lib\\site-packages\\sklearn\\linear_model\\_coordinate_descent.py:631: ConvergenceWarning: Objective did not converge. You might want to increase the number of iterations, check the scale of the features or consider increasing regularisation. Duality gap: 1.165e+12, tolerance: 6.287e+08\n",
      "  model = cd_fast.enet_coordinate_descent(\n",
      "c:\\Users\\sasi virat\\anaconda3\\envs\\myenv\\lib\\site-packages\\sklearn\\linear_model\\_coordinate_descent.py:631: ConvergenceWarning: Objective did not converge. You might want to increase the number of iterations, check the scale of the features or consider increasing regularisation. Duality gap: 1.187e+12, tolerance: 6.284e+08\n",
      "  model = cd_fast.enet_coordinate_descent(\n",
      "c:\\Users\\sasi virat\\anaconda3\\envs\\myenv\\lib\\site-packages\\sklearn\\linear_model\\_coordinate_descent.py:631: ConvergenceWarning: Objective did not converge. You might want to increase the number of iterations, check the scale of the features or consider increasing regularisation. Duality gap: 1.169e+12, tolerance: 6.278e+08\n",
      "  model = cd_fast.enet_coordinate_descent(\n",
      "c:\\Users\\sasi virat\\anaconda3\\envs\\myenv\\lib\\site-packages\\sklearn\\linear_model\\_coordinate_descent.py:631: ConvergenceWarning: Objective did not converge. You might want to increase the number of iterations, check the scale of the features or consider increasing regularisation. Duality gap: 1.171e+12, tolerance: 6.274e+08\n",
      "  model = cd_fast.enet_coordinate_descent(\n",
      "c:\\Users\\sasi virat\\anaconda3\\envs\\myenv\\lib\\site-packages\\sklearn\\linear_model\\_coordinate_descent.py:631: ConvergenceWarning: Objective did not converge. You might want to increase the number of iterations, check the scale of the features or consider increasing regularisation. Duality gap: 8.251e+11, tolerance: 6.275e+08\n",
      "  model = cd_fast.enet_coordinate_descent(\n",
      "c:\\Users\\sasi virat\\anaconda3\\envs\\myenv\\lib\\site-packages\\sklearn\\linear_model\\_coordinate_descent.py:631: ConvergenceWarning: Objective did not converge. You might want to increase the number of iterations, check the scale of the features or consider increasing regularisation. Duality gap: 1.158e+12, tolerance: 6.287e+08\n",
      "  model = cd_fast.enet_coordinate_descent(\n",
      "c:\\Users\\sasi virat\\anaconda3\\envs\\myenv\\lib\\site-packages\\sklearn\\linear_model\\_coordinate_descent.py:631: ConvergenceWarning: Objective did not converge. You might want to increase the number of iterations, check the scale of the features or consider increasing regularisation. Duality gap: 1.184e+12, tolerance: 6.284e+08\n",
      "  model = cd_fast.enet_coordinate_descent(\n",
      "c:\\Users\\sasi virat\\anaconda3\\envs\\myenv\\lib\\site-packages\\sklearn\\linear_model\\_coordinate_descent.py:631: ConvergenceWarning: Objective did not converge. You might want to increase the number of iterations, check the scale of the features or consider increasing regularisation. Duality gap: 1.162e+12, tolerance: 6.278e+08\n",
      "  model = cd_fast.enet_coordinate_descent(\n",
      "c:\\Users\\sasi virat\\anaconda3\\envs\\myenv\\lib\\site-packages\\sklearn\\linear_model\\_coordinate_descent.py:631: ConvergenceWarning: Objective did not converge. You might want to increase the number of iterations, check the scale of the features or consider increasing regularisation. Duality gap: 1.166e+12, tolerance: 6.274e+08\n",
      "  model = cd_fast.enet_coordinate_descent(\n",
      "c:\\Users\\sasi virat\\anaconda3\\envs\\myenv\\lib\\site-packages\\sklearn\\linear_model\\_coordinate_descent.py:631: ConvergenceWarning: Objective did not converge. You might want to increase the number of iterations, check the scale of the features or consider increasing regularisation. Duality gap: 7.265e+11, tolerance: 6.275e+08\n",
      "  model = cd_fast.enet_coordinate_descent(\n",
      "c:\\Users\\sasi virat\\anaconda3\\envs\\myenv\\lib\\site-packages\\sklearn\\linear_model\\_coordinate_descent.py:631: ConvergenceWarning: Objective did not converge. You might want to increase the number of iterations, check the scale of the features or consider increasing regularisation. Duality gap: 1.152e+12, tolerance: 6.287e+08\n",
      "  model = cd_fast.enet_coordinate_descent(\n",
      "c:\\Users\\sasi virat\\anaconda3\\envs\\myenv\\lib\\site-packages\\sklearn\\linear_model\\_coordinate_descent.py:631: ConvergenceWarning: Objective did not converge. You might want to increase the number of iterations, check the scale of the features or consider increasing regularisation. Duality gap: 1.182e+12, tolerance: 6.284e+08\n",
      "  model = cd_fast.enet_coordinate_descent(\n",
      "c:\\Users\\sasi virat\\anaconda3\\envs\\myenv\\lib\\site-packages\\sklearn\\linear_model\\_coordinate_descent.py:631: ConvergenceWarning: Objective did not converge. You might want to increase the number of iterations, check the scale of the features or consider increasing regularisation. Duality gap: 1.156e+12, tolerance: 6.278e+08\n",
      "  model = cd_fast.enet_coordinate_descent(\n",
      "c:\\Users\\sasi virat\\anaconda3\\envs\\myenv\\lib\\site-packages\\sklearn\\linear_model\\_coordinate_descent.py:631: ConvergenceWarning: Objective did not converge. You might want to increase the number of iterations, check the scale of the features or consider increasing regularisation. Duality gap: 1.161e+12, tolerance: 6.274e+08\n",
      "  model = cd_fast.enet_coordinate_descent(\n",
      "c:\\Users\\sasi virat\\anaconda3\\envs\\myenv\\lib\\site-packages\\sklearn\\linear_model\\_coordinate_descent.py:631: ConvergenceWarning: Objective did not converge. You might want to increase the number of iterations, check the scale of the features or consider increasing regularisation. Duality gap: 6.348e+11, tolerance: 6.275e+08\n",
      "  model = cd_fast.enet_coordinate_descent(\n",
      "c:\\Users\\sasi virat\\anaconda3\\envs\\myenv\\lib\\site-packages\\sklearn\\linear_model\\_coordinate_descent.py:631: ConvergenceWarning: Objective did not converge. You might want to increase the number of iterations, check the scale of the features or consider increasing regularisation. Duality gap: 1.147e+12, tolerance: 6.287e+08\n",
      "  model = cd_fast.enet_coordinate_descent(\n",
      "c:\\Users\\sasi virat\\anaconda3\\envs\\myenv\\lib\\site-packages\\sklearn\\linear_model\\_coordinate_descent.py:631: ConvergenceWarning: Objective did not converge. You might want to increase the number of iterations, check the scale of the features or consider increasing regularisation. Duality gap: 1.180e+12, tolerance: 6.284e+08\n",
      "  model = cd_fast.enet_coordinate_descent(\n",
      "c:\\Users\\sasi virat\\anaconda3\\envs\\myenv\\lib\\site-packages\\sklearn\\linear_model\\_coordinate_descent.py:631: ConvergenceWarning: Objective did not converge. You might want to increase the number of iterations, check the scale of the features or consider increasing regularisation. Duality gap: 1.151e+12, tolerance: 6.278e+08\n",
      "  model = cd_fast.enet_coordinate_descent(\n",
      "c:\\Users\\sasi virat\\anaconda3\\envs\\myenv\\lib\\site-packages\\sklearn\\linear_model\\_coordinate_descent.py:631: ConvergenceWarning: Objective did not converge. You might want to increase the number of iterations, check the scale of the features or consider increasing regularisation. Duality gap: 1.157e+12, tolerance: 6.274e+08\n",
      "  model = cd_fast.enet_coordinate_descent(\n",
      "c:\\Users\\sasi virat\\anaconda3\\envs\\myenv\\lib\\site-packages\\sklearn\\linear_model\\_coordinate_descent.py:631: ConvergenceWarning: Objective did not converge. You might want to increase the number of iterations, check the scale of the features or consider increasing regularisation. Duality gap: 5.476e+11, tolerance: 6.275e+08\n",
      "  model = cd_fast.enet_coordinate_descent(\n",
      "c:\\Users\\sasi virat\\anaconda3\\envs\\myenv\\lib\\site-packages\\sklearn\\linear_model\\_coordinate_descent.py:631: ConvergenceWarning: Objective did not converge. You might want to increase the number of iterations, check the scale of the features or consider increasing regularisation. Duality gap: 1.143e+12, tolerance: 6.287e+08\n",
      "  model = cd_fast.enet_coordinate_descent(\n",
      "c:\\Users\\sasi virat\\anaconda3\\envs\\myenv\\lib\\site-packages\\sklearn\\linear_model\\_coordinate_descent.py:631: ConvergenceWarning: Objective did not converge. You might want to increase the number of iterations, check the scale of the features or consider increasing regularisation. Duality gap: 1.178e+12, tolerance: 6.284e+08\n",
      "  model = cd_fast.enet_coordinate_descent(\n",
      "c:\\Users\\sasi virat\\anaconda3\\envs\\myenv\\lib\\site-packages\\sklearn\\linear_model\\_coordinate_descent.py:631: ConvergenceWarning: Objective did not converge. You might want to increase the number of iterations, check the scale of the features or consider increasing regularisation. Duality gap: 1.147e+12, tolerance: 6.278e+08\n",
      "  model = cd_fast.enet_coordinate_descent(\n",
      "c:\\Users\\sasi virat\\anaconda3\\envs\\myenv\\lib\\site-packages\\sklearn\\linear_model\\_coordinate_descent.py:631: ConvergenceWarning: Objective did not converge. You might want to increase the number of iterations, check the scale of the features or consider increasing regularisation. Duality gap: 1.153e+12, tolerance: 6.274e+08\n",
      "  model = cd_fast.enet_coordinate_descent(\n",
      "c:\\Users\\sasi virat\\anaconda3\\envs\\myenv\\lib\\site-packages\\sklearn\\linear_model\\_coordinate_descent.py:631: ConvergenceWarning: Objective did not converge. You might want to increase the number of iterations, check the scale of the features or consider increasing regularisation. Duality gap: 4.629e+11, tolerance: 6.275e+08\n",
      "  model = cd_fast.enet_coordinate_descent(\n",
      "c:\\Users\\sasi virat\\anaconda3\\envs\\myenv\\lib\\site-packages\\sklearn\\linear_model\\_coordinate_descent.py:631: ConvergenceWarning: Objective did not converge. You might want to increase the number of iterations, check the scale of the features or consider increasing regularisation. Duality gap: 1.139e+12, tolerance: 6.287e+08\n",
      "  model = cd_fast.enet_coordinate_descent(\n",
      "c:\\Users\\sasi virat\\anaconda3\\envs\\myenv\\lib\\site-packages\\sklearn\\linear_model\\_coordinate_descent.py:631: ConvergenceWarning: Objective did not converge. You might want to increase the number of iterations, check the scale of the features or consider increasing regularisation. Duality gap: 1.177e+12, tolerance: 6.284e+08\n",
      "  model = cd_fast.enet_coordinate_descent(\n",
      "c:\\Users\\sasi virat\\anaconda3\\envs\\myenv\\lib\\site-packages\\sklearn\\linear_model\\_coordinate_descent.py:631: ConvergenceWarning: Objective did not converge. You might want to increase the number of iterations, check the scale of the features or consider increasing regularisation. Duality gap: 1.144e+12, tolerance: 6.278e+08\n",
      "  model = cd_fast.enet_coordinate_descent(\n",
      "c:\\Users\\sasi virat\\anaconda3\\envs\\myenv\\lib\\site-packages\\sklearn\\linear_model\\_coordinate_descent.py:631: ConvergenceWarning: Objective did not converge. You might want to increase the number of iterations, check the scale of the features or consider increasing regularisation. Duality gap: 1.150e+12, tolerance: 6.274e+08\n",
      "  model = cd_fast.enet_coordinate_descent(\n",
      "c:\\Users\\sasi virat\\anaconda3\\envs\\myenv\\lib\\site-packages\\sklearn\\linear_model\\_coordinate_descent.py:631: ConvergenceWarning: Objective did not converge. You might want to increase the number of iterations, check the scale of the features or consider increasing regularisation. Duality gap: 3.788e+11, tolerance: 6.275e+08\n",
      "  model = cd_fast.enet_coordinate_descent(\n",
      "c:\\Users\\sasi virat\\anaconda3\\envs\\myenv\\lib\\site-packages\\sklearn\\linear_model\\_coordinate_descent.py:631: ConvergenceWarning: Objective did not converge. You might want to increase the number of iterations, check the scale of the features or consider increasing regularisation. Duality gap: 1.136e+12, tolerance: 6.287e+08\n",
      "  model = cd_fast.enet_coordinate_descent(\n",
      "c:\\Users\\sasi virat\\anaconda3\\envs\\myenv\\lib\\site-packages\\sklearn\\linear_model\\_coordinate_descent.py:631: ConvergenceWarning: Objective did not converge. You might want to increase the number of iterations, check the scale of the features or consider increasing regularisation. Duality gap: 1.175e+12, tolerance: 6.284e+08\n",
      "  model = cd_fast.enet_coordinate_descent(\n",
      "c:\\Users\\sasi virat\\anaconda3\\envs\\myenv\\lib\\site-packages\\sklearn\\linear_model\\_coordinate_descent.py:631: ConvergenceWarning: Objective did not converge. You might want to increase the number of iterations, check the scale of the features or consider increasing regularisation. Duality gap: 1.141e+12, tolerance: 6.278e+08\n",
      "  model = cd_fast.enet_coordinate_descent(\n",
      "c:\\Users\\sasi virat\\anaconda3\\envs\\myenv\\lib\\site-packages\\sklearn\\linear_model\\_coordinate_descent.py:631: ConvergenceWarning: Objective did not converge. You might want to increase the number of iterations, check the scale of the features or consider increasing regularisation. Duality gap: 1.148e+12, tolerance: 6.274e+08\n",
      "  model = cd_fast.enet_coordinate_descent(\n",
      "c:\\Users\\sasi virat\\anaconda3\\envs\\myenv\\lib\\site-packages\\sklearn\\linear_model\\_coordinate_descent.py:631: ConvergenceWarning: Objective did not converge. You might want to increase the number of iterations, check the scale of the features or consider increasing regularisation. Duality gap: 2.943e+11, tolerance: 6.275e+08\n",
      "  model = cd_fast.enet_coordinate_descent(\n",
      "c:\\Users\\sasi virat\\anaconda3\\envs\\myenv\\lib\\site-packages\\sklearn\\linear_model\\_coordinate_descent.py:631: ConvergenceWarning: Objective did not converge. You might want to increase the number of iterations, check the scale of the features or consider increasing regularisation. Duality gap: 1.134e+12, tolerance: 6.287e+08\n",
      "  model = cd_fast.enet_coordinate_descent(\n",
      "c:\\Users\\sasi virat\\anaconda3\\envs\\myenv\\lib\\site-packages\\sklearn\\linear_model\\_coordinate_descent.py:631: ConvergenceWarning: Objective did not converge. You might want to increase the number of iterations, check the scale of the features or consider increasing regularisation. Duality gap: 1.174e+12, tolerance: 6.284e+08\n",
      "  model = cd_fast.enet_coordinate_descent(\n",
      "c:\\Users\\sasi virat\\anaconda3\\envs\\myenv\\lib\\site-packages\\sklearn\\linear_model\\_coordinate_descent.py:631: ConvergenceWarning: Objective did not converge. You might want to increase the number of iterations, check the scale of the features or consider increasing regularisation. Duality gap: 1.138e+12, tolerance: 6.278e+08\n",
      "  model = cd_fast.enet_coordinate_descent(\n",
      "c:\\Users\\sasi virat\\anaconda3\\envs\\myenv\\lib\\site-packages\\sklearn\\linear_model\\_coordinate_descent.py:631: ConvergenceWarning: Objective did not converge. You might want to increase the number of iterations, check the scale of the features or consider increasing regularisation. Duality gap: 1.146e+12, tolerance: 6.274e+08\n",
      "  model = cd_fast.enet_coordinate_descent(\n",
      "c:\\Users\\sasi virat\\anaconda3\\envs\\myenv\\lib\\site-packages\\sklearn\\linear_model\\_coordinate_descent.py:631: ConvergenceWarning: Objective did not converge. You might want to increase the number of iterations, check the scale of the features or consider increasing regularisation. Duality gap: 2.089e+11, tolerance: 6.275e+08\n",
      "  model = cd_fast.enet_coordinate_descent(\n",
      "c:\\Users\\sasi virat\\anaconda3\\envs\\myenv\\lib\\site-packages\\sklearn\\linear_model\\_coordinate_descent.py:631: ConvergenceWarning: Objective did not converge. You might want to increase the number of iterations, check the scale of the features or consider increasing regularisation. Duality gap: 1.209e+12, tolerance: 6.287e+08 Linear regression models with null weight for the l1 regularization term are more efficiently fitted using one of the solvers implemented in sklearn.linear_model.Ridge/RidgeCV instead.\n",
      "  model = cd_fast.enet_coordinate_descent(\n",
      "c:\\Users\\sasi virat\\anaconda3\\envs\\myenv\\lib\\site-packages\\sklearn\\linear_model\\_coordinate_descent.py:631: ConvergenceWarning: Objective did not converge. You might want to increase the number of iterations, check the scale of the features or consider increasing regularisation. Duality gap: 1.212e+12, tolerance: 6.284e+08 Linear regression models with null weight for the l1 regularization term are more efficiently fitted using one of the solvers implemented in sklearn.linear_model.Ridge/RidgeCV instead.\n",
      "  model = cd_fast.enet_coordinate_descent(\n",
      "c:\\Users\\sasi virat\\anaconda3\\envs\\myenv\\lib\\site-packages\\sklearn\\linear_model\\_coordinate_descent.py:631: ConvergenceWarning: Objective did not converge. You might want to increase the number of iterations, check the scale of the features or consider increasing regularisation. Duality gap: 1.211e+12, tolerance: 6.278e+08 Linear regression models with null weight for the l1 regularization term are more efficiently fitted using one of the solvers implemented in sklearn.linear_model.Ridge/RidgeCV instead.\n",
      "  model = cd_fast.enet_coordinate_descent(\n",
      "c:\\Users\\sasi virat\\anaconda3\\envs\\myenv\\lib\\site-packages\\sklearn\\linear_model\\_coordinate_descent.py:631: ConvergenceWarning: Objective did not converge. You might want to increase the number of iterations, check the scale of the features or consider increasing regularisation. Duality gap: 1.209e+12, tolerance: 6.274e+08 Linear regression models with null weight for the l1 regularization term are more efficiently fitted using one of the solvers implemented in sklearn.linear_model.Ridge/RidgeCV instead.\n",
      "  model = cd_fast.enet_coordinate_descent(\n",
      "c:\\Users\\sasi virat\\anaconda3\\envs\\myenv\\lib\\site-packages\\sklearn\\linear_model\\_coordinate_descent.py:631: ConvergenceWarning: Objective did not converge. You might want to increase the number of iterations, check the scale of the features or consider increasing regularisation. Duality gap: 1.212e+12, tolerance: 6.275e+08 Linear regression models with null weight for the l1 regularization term are more efficiently fitted using one of the solvers implemented in sklearn.linear_model.Ridge/RidgeCV instead.\n",
      "  model = cd_fast.enet_coordinate_descent(\n",
      "c:\\Users\\sasi virat\\anaconda3\\envs\\myenv\\lib\\site-packages\\sklearn\\linear_model\\_coordinate_descent.py:631: ConvergenceWarning: Objective did not converge. You might want to increase the number of iterations, check the scale of the features or consider increasing regularisation. Duality gap: 6.046e+09, tolerance: 6.287e+08\n",
      "  model = cd_fast.enet_coordinate_descent(\n",
      "c:\\Users\\sasi virat\\anaconda3\\envs\\myenv\\lib\\site-packages\\sklearn\\linear_model\\_coordinate_descent.py:631: ConvergenceWarning: Objective did not converge. You might want to increase the number of iterations, check the scale of the features or consider increasing regularisation. Duality gap: 8.909e+10, tolerance: 6.284e+08\n",
      "  model = cd_fast.enet_coordinate_descent(\n",
      "c:\\Users\\sasi virat\\anaconda3\\envs\\myenv\\lib\\site-packages\\sklearn\\linear_model\\_coordinate_descent.py:631: ConvergenceWarning: Objective did not converge. You might want to increase the number of iterations, check the scale of the features or consider increasing regularisation. Duality gap: 1.596e+10, tolerance: 6.278e+08\n",
      "  model = cd_fast.enet_coordinate_descent(\n",
      "c:\\Users\\sasi virat\\anaconda3\\envs\\myenv\\lib\\site-packages\\sklearn\\linear_model\\_coordinate_descent.py:631: ConvergenceWarning: Objective did not converge. You might want to increase the number of iterations, check the scale of the features or consider increasing regularisation. Duality gap: 1.157e+10, tolerance: 6.274e+08\n",
      "  model = cd_fast.enet_coordinate_descent(\n",
      "c:\\Users\\sasi virat\\anaconda3\\envs\\myenv\\lib\\site-packages\\sklearn\\linear_model\\_coordinate_descent.py:631: ConvergenceWarning: Objective did not converge. You might want to increase the number of iterations, check the scale of the features or consider increasing regularisation. Duality gap: 4.101e+09, tolerance: 6.275e+08\n",
      "  model = cd_fast.enet_coordinate_descent(\n",
      "c:\\Users\\sasi virat\\anaconda3\\envs\\myenv\\lib\\site-packages\\sklearn\\linear_model\\_coordinate_descent.py:631: ConvergenceWarning: Objective did not converge. You might want to increase the number of iterations, check the scale of the features or consider increasing regularisation. Duality gap: 5.994e+09, tolerance: 6.287e+08\n",
      "  model = cd_fast.enet_coordinate_descent(\n",
      "c:\\Users\\sasi virat\\anaconda3\\envs\\myenv\\lib\\site-packages\\sklearn\\linear_model\\_coordinate_descent.py:631: ConvergenceWarning: Objective did not converge. You might want to increase the number of iterations, check the scale of the features or consider increasing regularisation. Duality gap: 7.972e+10, tolerance: 6.284e+08\n",
      "  model = cd_fast.enet_coordinate_descent(\n",
      "c:\\Users\\sasi virat\\anaconda3\\envs\\myenv\\lib\\site-packages\\sklearn\\linear_model\\_coordinate_descent.py:631: ConvergenceWarning: Objective did not converge. You might want to increase the number of iterations, check the scale of the features or consider increasing regularisation. Duality gap: 1.393e+10, tolerance: 6.278e+08\n",
      "  model = cd_fast.enet_coordinate_descent(\n",
      "c:\\Users\\sasi virat\\anaconda3\\envs\\myenv\\lib\\site-packages\\sklearn\\linear_model\\_coordinate_descent.py:631: ConvergenceWarning: Objective did not converge. You might want to increase the number of iterations, check the scale of the features or consider increasing regularisation. Duality gap: 1.120e+10, tolerance: 6.274e+08\n",
      "  model = cd_fast.enet_coordinate_descent(\n",
      "c:\\Users\\sasi virat\\anaconda3\\envs\\myenv\\lib\\site-packages\\sklearn\\linear_model\\_coordinate_descent.py:631: ConvergenceWarning: Objective did not converge. You might want to increase the number of iterations, check the scale of the features or consider increasing regularisation. Duality gap: 3.030e+09, tolerance: 6.275e+08\n",
      "  model = cd_fast.enet_coordinate_descent(\n",
      "c:\\Users\\sasi virat\\anaconda3\\envs\\myenv\\lib\\site-packages\\sklearn\\linear_model\\_coordinate_descent.py:631: ConvergenceWarning: Objective did not converge. You might want to increase the number of iterations, check the scale of the features or consider increasing regularisation. Duality gap: 1.010e+10, tolerance: 6.287e+08\n",
      "  model = cd_fast.enet_coordinate_descent(\n",
      "c:\\Users\\sasi virat\\anaconda3\\envs\\myenv\\lib\\site-packages\\sklearn\\linear_model\\_coordinate_descent.py:631: ConvergenceWarning: Objective did not converge. You might want to increase the number of iterations, check the scale of the features or consider increasing regularisation. Duality gap: 1.087e+11, tolerance: 6.284e+08\n",
      "  model = cd_fast.enet_coordinate_descent(\n",
      "c:\\Users\\sasi virat\\anaconda3\\envs\\myenv\\lib\\site-packages\\sklearn\\linear_model\\_coordinate_descent.py:631: ConvergenceWarning: Objective did not converge. You might want to increase the number of iterations, check the scale of the features or consider increasing regularisation. Duality gap: 2.041e+10, tolerance: 6.278e+08\n",
      "  model = cd_fast.enet_coordinate_descent(\n",
      "c:\\Users\\sasi virat\\anaconda3\\envs\\myenv\\lib\\site-packages\\sklearn\\linear_model\\_coordinate_descent.py:631: ConvergenceWarning: Objective did not converge. You might want to increase the number of iterations, check the scale of the features or consider increasing regularisation. Duality gap: 1.796e+10, tolerance: 6.274e+08\n",
      "  model = cd_fast.enet_coordinate_descent(\n",
      "c:\\Users\\sasi virat\\anaconda3\\envs\\myenv\\lib\\site-packages\\sklearn\\linear_model\\_coordinate_descent.py:631: ConvergenceWarning: Objective did not converge. You might want to increase the number of iterations, check the scale of the features or consider increasing regularisation. Duality gap: 3.751e+09, tolerance: 6.275e+08\n",
      "  model = cd_fast.enet_coordinate_descent(\n",
      "c:\\Users\\sasi virat\\anaconda3\\envs\\myenv\\lib\\site-packages\\sklearn\\linear_model\\_coordinate_descent.py:631: ConvergenceWarning: Objective did not converge. You might want to increase the number of iterations, check the scale of the features or consider increasing regularisation. Duality gap: 2.065e+10, tolerance: 6.287e+08\n",
      "  model = cd_fast.enet_coordinate_descent(\n",
      "c:\\Users\\sasi virat\\anaconda3\\envs\\myenv\\lib\\site-packages\\sklearn\\linear_model\\_coordinate_descent.py:631: ConvergenceWarning: Objective did not converge. You might want to increase the number of iterations, check the scale of the features or consider increasing regularisation. Duality gap: 1.691e+11, tolerance: 6.284e+08\n",
      "  model = cd_fast.enet_coordinate_descent(\n",
      "c:\\Users\\sasi virat\\anaconda3\\envs\\myenv\\lib\\site-packages\\sklearn\\linear_model\\_coordinate_descent.py:631: ConvergenceWarning: Objective did not converge. You might want to increase the number of iterations, check the scale of the features or consider increasing regularisation. Duality gap: 3.633e+10, tolerance: 6.278e+08\n",
      "  model = cd_fast.enet_coordinate_descent(\n",
      "c:\\Users\\sasi virat\\anaconda3\\envs\\myenv\\lib\\site-packages\\sklearn\\linear_model\\_coordinate_descent.py:631: ConvergenceWarning: Objective did not converge. You might want to increase the number of iterations, check the scale of the features or consider increasing regularisation. Duality gap: 3.198e+10, tolerance: 6.274e+08\n",
      "  model = cd_fast.enet_coordinate_descent(\n",
      "c:\\Users\\sasi virat\\anaconda3\\envs\\myenv\\lib\\site-packages\\sklearn\\linear_model\\_coordinate_descent.py:631: ConvergenceWarning: Objective did not converge. You might want to increase the number of iterations, check the scale of the features or consider increasing regularisation. Duality gap: 5.576e+09, tolerance: 6.275e+08\n",
      "  model = cd_fast.enet_coordinate_descent(\n",
      "c:\\Users\\sasi virat\\anaconda3\\envs\\myenv\\lib\\site-packages\\sklearn\\linear_model\\_coordinate_descent.py:631: ConvergenceWarning: Objective did not converge. You might want to increase the number of iterations, check the scale of the features or consider increasing regularisation. Duality gap: 4.517e+10, tolerance: 6.287e+08\n",
      "  model = cd_fast.enet_coordinate_descent(\n",
      "c:\\Users\\sasi virat\\anaconda3\\envs\\myenv\\lib\\site-packages\\sklearn\\linear_model\\_coordinate_descent.py:631: ConvergenceWarning: Objective did not converge. You might want to increase the number of iterations, check the scale of the features or consider increasing regularisation. Duality gap: 2.693e+11, tolerance: 6.284e+08\n",
      "  model = cd_fast.enet_coordinate_descent(\n",
      "c:\\Users\\sasi virat\\anaconda3\\envs\\myenv\\lib\\site-packages\\sklearn\\linear_model\\_coordinate_descent.py:631: ConvergenceWarning: Objective did not converge. You might want to increase the number of iterations, check the scale of the features or consider increasing regularisation. Duality gap: 6.957e+10, tolerance: 6.278e+08\n",
      "  model = cd_fast.enet_coordinate_descent(\n",
      "c:\\Users\\sasi virat\\anaconda3\\envs\\myenv\\lib\\site-packages\\sklearn\\linear_model\\_coordinate_descent.py:631: ConvergenceWarning: Objective did not converge. You might want to increase the number of iterations, check the scale of the features or consider increasing regularisation. Duality gap: 7.320e+10, tolerance: 6.274e+08\n",
      "  model = cd_fast.enet_coordinate_descent(\n",
      "c:\\Users\\sasi virat\\anaconda3\\envs\\myenv\\lib\\site-packages\\sklearn\\linear_model\\_coordinate_descent.py:631: ConvergenceWarning: Objective did not converge. You might want to increase the number of iterations, check the scale of the features or consider increasing regularisation. Duality gap: 8.849e+09, tolerance: 6.275e+08\n",
      "  model = cd_fast.enet_coordinate_descent(\n",
      "c:\\Users\\sasi virat\\anaconda3\\envs\\myenv\\lib\\site-packages\\sklearn\\linear_model\\_coordinate_descent.py:631: ConvergenceWarning: Objective did not converge. You might want to increase the number of iterations, check the scale of the features or consider increasing regularisation. Duality gap: 1.003e+11, tolerance: 6.287e+08\n",
      "  model = cd_fast.enet_coordinate_descent(\n"
     ]
    }
   ],
   "source": [
    "## Elastic net \n",
    "alpha_values = [1e-5, 1e-4, 1e-3, 1e-2, 1e-1, 1, 10, 100, 1000, 10000]\n",
    "l1_ratios = np.linspace(0, 1, 11) \n",
    "\n",
    "param_grid_en = {'alpha': alpha_values, 'l1_ratio': l1_ratios}\n",
    "grid_search_en = GridSearchCV(en_model, param_grid_en, cv=5, scoring='neg_mean_squared_error')\n",
    "grid_search_en.fit(X_rr_fin, y_rr_fin)\n",
    "test_score_en = grid_search_en.best_estimator_.score(X_rr_fin, y_rr_fin)\n",
    "\n",
    "\n",
    "print(f\"Best alpha value: {grid_search_en.best_params_['alpha']}\")\n",
    "print(f\"Best l1 ratio value: {grid_search_en.best_params_['l1_ratio']}\")\n",
    "print(f\"Best negative mean squared error: {grid_search_en.best_score_}\")\n",
    "print(f\"Best model test R^2 score: {test_score_en}\")"
   ]
  },
  {
   "cell_type": "code",
   "execution_count": 1,
   "metadata": {},
   "outputs": [
    {
     "ename": "NameError",
     "evalue": "name 'grid_search_en' is not defined",
     "output_type": "error",
     "traceback": [
      "\u001b[1;31m---------------------------------------------------------------------------\u001b[0m",
      "\u001b[1;31mNameError\u001b[0m                                 Traceback (most recent call last)",
      "Cell \u001b[1;32mIn[1], line 1\u001b[0m\n\u001b[1;32m----> 1\u001b[0m \u001b[38;5;28mprint\u001b[39m(\u001b[38;5;124mf\u001b[39m\u001b[38;5;124m\"\u001b[39m\u001b[38;5;124mBest l1 ratio value: \u001b[39m\u001b[38;5;132;01m{\u001b[39;00mgrid_search_en\u001b[38;5;241m.\u001b[39mbest_params_[\u001b[38;5;124m'\u001b[39m\u001b[38;5;124ml1_ratio\u001b[39m\u001b[38;5;124m'\u001b[39m]\u001b[38;5;132;01m}\u001b[39;00m\u001b[38;5;124m\"\u001b[39m)\n",
      "\u001b[1;31mNameError\u001b[0m: name 'grid_search_en' is not defined"
     ]
    }
   ],
   "source": [
    "print(f\"Best l1 ratio value: {grid_search_en.best_params_['l1_ratio']}\")\n"
   ]
  },
  {
   "cell_type": "markdown",
   "metadata": {},
   "source": [
    "\n",
    "Hyperparameter Tuning - SVM Regression\n",
    "Support Vector Machine (SVM) Regression is a versatile machine learning algorithm that can be used for both linear and non-linear regression tasks. It aims to find the best-fitting hyperplane that has the largest distance (margin) between the support vectors and the hyperplane.\n",
    "\n",
    "Relevant Parameters:\n",
    "\n",
    "**kernel**: Specifies the kernel function to be used in the algorithm. Possible options are 'linear', 'poly', 'rbf', 'sigmoid', and 'precomputed'. The choice of the kernel function depends on the nature of the data and the problem to be solved.\n",
    " \n",
    " ***C**: Regularization parameter (also called the cost parameter); must be a positive float. It determines the trade-off between achieving a low training error and a low testing error. In other words, it controls the balance between overfitting and underfitting. A smaller value of C creates a wider margin, which may result in more training errors but better generalization to the test data. A larger value of C creates a narrower margin, which may result in fewer training errors but poorer generalization to the test data.\n",
    "\n",
    "**degree**: The degree of the polynomial kernel function ('poly'). Ignored by all other kernels. It is the degree of the polynomial used for the 'poly' kernel and determines the flexibility of the model.\n",
    "\n",
    "**gamma**: Kernel coefficient for 'rbf', 'poly', and 'sigmoid'. If gamma is 'scale' (default), then it is calculated as 1 / (n_features * X.var()) for the input data X. If gamma is 'auto', then it is calculated as 1/n_features. A smaller gamma value will produce a more flexible model, while a larger gamma value will produce a more rigid model.\n",
    "\n",
    "**coef0**: Independent term in the kernel function. It is only significant in 'poly' and 'sigmoid'. It controls the influence of higher degree terms in the polynomial and sigmoid kernels.\n",
    "\n",
    "**shrinking**: Whether to use the shrinking heuristic. The shrinking heuristic is a technique used to speed up training by removing some of the support vectors that are not necessary for the final solution. True by default.\n",
    "\n",
    "**epsilon**: Epsilon parameter in the epsilon-SVR model. It specifies the epsilon-tube within which no penalty is associated with the training loss function on the prediction error. Larger values of epsilon result in more tolerance for errors.\n",
    "\n",
    "\n",
    "By tuning these parameters, you can find the best combination for your specific regression problem and achieve a better balance between model complexity and generalization performance."
   ]
  },
  {
   "cell_type": "code",
   "execution_count": null,
   "metadata": {},
   "outputs": [],
   "source": [
    "#SVM Code \n",
    "from sklearn.svm import SVR\n",
    "\n",
    "svm_model = SVR(kernel='linear', C=1.0)\n",
    "svm_scores = cross_val_score(svm_model, X_rr_fin, y_rr_fin, cv=5,scoring='neg_mean_squared_error')\n",
    "print(svm_scores)\n",
    "\n",
    "\"\"\"param_grid = {\n",
    "    'kernel': ['linear', 'rbf'],\n",
    "    'C': [0.1, 1, 10],\n",
    "    'gamma': ['scale', 'auto', 0.1, 1, 10]\n",
    "}\n",
    "grid_search_svm = GridSearchCV(svr, param_grid, scoring='neg_mean_squared_error', cv=5, n_jobs=-1, verbose=1)\n",
    "grid_search_svm.fit(X_rr_fin, y_rr_fin)\n",
    "test_score_svm = grid_search_svm.best_estimator_.score(X_rr_fin, y_rr_fin)\n",
    "\n",
    "\n",
    "print(f\"Best kernel value: {grid_search_svm.best_params_['kernel']}\")\n",
    "print(f\"Best C value: {grid_search_svm.best_params_['C']}\")\n",
    "print(f\"Best gamma value: {grid_search_svm.best_params_['gamma']}\")\n",
    "print(f\"Best negative mean squared error: {grid_search_svm.best_score_}\")\n",
    "\"\"\""
   ]
  },
  {
   "cell_type": "code",
   "execution_count": null,
   "metadata": {},
   "outputs": [],
   "source": [
    "######### No Data Manipulation (Decision Tree, Random Forest, XGBoost) ###############\n",
    "tree_pipe = Pipeline([\n",
    "    ('categorical_trans', category_preprocessor),\n",
    "    ('onehot', onehot_preprocessor)\n",
    "])\n",
    "\n",
    "X_tree = tree_pipe.fit_transform(X_train)"
   ]
  },
  {
   "cell_type": "markdown",
   "metadata": {},
   "source": [
    "### Hyperparameter Tuning - Decision Tree\n",
    "Decision Trees are a popular machine learning algorithm used for both regression and classification tasks. They are easy to interpret and can naturally handle a mixture of continuous and categorical variables.\n",
    "\n",
    "Relevant Parameters:\n",
    "\n",
    "\n",
    "**criterion**: The function to measure the quality of a split. Supported criteria for regression are 'mse' (mean squared error) and 'friedman_mse' (improvement in mean squared error). For classification, supported criteria are 'gini' and 'entropy'.\n",
    "\n",
    "**splitter**: The strategy used to choose the split at each node. Supported strategies are 'best' to choose the best split and 'random' to choose the best random split.\n",
    "\n",
    "**max_depth**: The maximum depth of the tree. If None, then nodes are expanded until all leaves are pure or until all leaves contain less than min_samples_split samples. Controlling the depth can help prevent overfitting.\n",
    "\n",
    "**min_samples_split**: The minimum number of samples required to split an internal node. A larger value prevents the tree from growing too deep, thus preventing overfitting.\n",
    "\n",
    "**min_samples_leaf**: The minimum number of samples required to be at a leaf node. A larger value prevents the tree from growing too deep, thus preventing overfitting.\n",
    "\n",
    "**min_weight_fraction_leaf**: The minimum weighted fraction of the sum total of weights required to be at a leaf node. Samples have equal weight when sample_weight is not provided.\n",
    "\n",
    "**max_features**: The number of features to consider when looking for the best split. If None, then max_features=n_features.\n",
    "\n",
    "**max_leaf_nodes**: Grow a tree with max_leaf_nodes in best-first fashion. Best nodes are defined as relative reduction in impurity. If None, then unlimited number of leaf nodes.\n",
    "\n",
    "**min_impurity_decrease**: A node will be split if this split induces a decrease of the impurity greater than or equal to this value.\n",
    "\n",
    "**min_impurity_split**: Threshold for early stopping in tree growth. A node will split if its impurity is above the threshold, otherwise it is a leaf.\n",
    "\n",
    "By tuning these parameters, you can find the best combination for your specific problem and achieve a better balance between model complexity and generalization performance."
   ]
  },
  {
   "cell_type": "code",
   "execution_count": null,
   "metadata": {},
   "outputs": [],
   "source": [
    "#decision Tree model \n",
    "\n",
    "from sklearn.tree import DecisionTreeRegressor\n",
    "\n",
    "# Decision Tree\n",
    "dt_model = DecisionTreeRegressor()\n",
    "dt_scores = cross_val_score(dt_model, X_tree, y_train, cv=5, scoring='neg_mean_squared_error')\n",
    "print(dt_scores)\n",
    "\n",
    "\"\"\"\n",
    "param_grid = {\n",
    "    'criterion': ['gini', 'entropy'],\n",
    "    'splitter': ['best', 'random'],\n",
    "    'max_depth': [None, 10, 20, 30, 40, 50],\n",
    "    'min_samples_split': [2, 5, 10, 15, 20],\n",
    "    'min_samples_leaf': [1, 2, 5, 10, 15],\n",
    "    'min_weight_fraction_leaf': [0.0, 0.1, 0.2, 0.3, 0.4],\n",
    "    'max_features': [None, 'auto', 'sqrt', 'log2'],\n",
    "    'max_leaf_nodes': [None, 10, 20, 30, 40, 50],\n",
    "    'min_impurity_decrease': [0.0, 0.1, 0.2, 0.3, 0.4],\n",
    "    'class_weight': [None, 'balanced']\n",
    "}\n",
    "\n",
    "grid_search_dt = GridSearchCV(dt_model, param_grid_dt, scoring='neg_mean_squared_error', cv=5, n_jobs=-1, verbose=1)\n",
    "grid_search_dt.fit(X_tree, y_train)\n",
    "test_score_dt = grid_search_dt.best_estimator_.score(X_tree, y_train)\n",
    "\n",
    "print(f\"Best max_depth value: {grid_search_dt.best_params_['max_depth']}\")\n",
    "print(f\"Best min_samples_split value: {grid_search_dt.best_params_['min_samples_split']}\")\n",
    "print(f\"Best min_samples_leaf value: {grid_search_dt.best_params_['min_samples_leaf']}\")\n",
    "print(f\"Best negative mean squared error: {grid_search_dt.best_score_}\")\n",
    "\"\"\""
   ]
  },
  {
   "cell_type": "markdown",
   "metadata": {},
   "source": [
    "## Hyperparameter Tuning - Random Forest\n",
    "Random Forest is an ensemble learning method that constructs a multitude of decision trees at training time and outputs the mode of the classes (classification) or mean prediction (regression) of the individual trees. It is highly flexible and can handle a wide variety of tasks.\n",
    "\n",
    "Relevant Parameters:\n",
    "\n",
    "**n_estimators**: The number of trees in the forest. Increasing the number of trees can improve the model's performance, but may also increase the computation time.\n",
    "\n",
    "**criterion**: The function to measure the quality of a split. Supported criteria for regression are 'mse' (mean squared error) and 'mae' (mean absolute error). For classification, supported criteria are 'gini' and 'entropy'.\n",
    "\n",
    "**max_depth**: The maximum depth of the tree. If None, then nodes are expanded until all leaves are pure or until all leaves contain less than min_samples_split samples. Controlling the depth can help prevent overfitting.\n",
    "\n",
    "**min_samples_split**: The minimum number of samples required to split an internal node. A larger value prevents the tree from growing too deep, thus preventing overfitting.\n",
    "\n",
    "**min_samples_leaf**: The minimum number of samples required to be at a leaf node. A larger value prevents the tree from growing too deep, thus preventing overfitting.\n",
    "\n",
    "**min_weight_fraction_leaf**: The minimum weighted fraction of the sum total of weights required to be at a leaf node. Samples have equal weight when sample_weight is not provided.\n",
    "\n",
    "**max_features**: The number of features to consider when looking for the best split. If None, then max_features=n_features. It can also be a float, int, or string ('auto', 'sqrt', or 'log2').\n",
    "\n",
    "**max_leaf_nodes**: Grow a tree with max_leaf_nodes in best-first fashion. Best nodes are defined as relative reduction in impurity. If None, then unlimited number of leaf nodes.\n",
    "\n",
    "**min_impurity_decrease**: A node will be split if this split induces a decrease of the impurity greater than or equal to this value.\n",
    "\n",
    "**bootstrap**: Whether bootstrap samples are used when building trees. If False, the whole dataset is used to build each tree.\n",
    "\n",
    "**oob_score**: Whether to use out-of-bag samples to estimate the generalization accuracy.\n",
    "\n",
    "By tuning these parameters, you can find the best combination for your specific problem and achieve a better balance between model complexity and generalization performance."
   ]
  },
  {
   "cell_type": "code",
   "execution_count": null,
   "metadata": {},
   "outputs": [],
   "source": [
    "from sklearn.ensemble import RandomForestRegressor\n",
    "from sklearn.model_selection import cross_val_score, GridSearchCV\n",
    "\n",
    "# Random Forest Regressor\n",
    "rf_model = RandomForestRegressor(random_state=42)\n",
    "rf_scores = cross_val_score(rf_model, X_tree, y_train, cv=5, scoring='neg_mean_squared_error')\n",
    "print(rf_scores)\n",
    "\n",
    "\"\"\"\n",
    "param_grid = {\n",
    "    'n_estimators': [10, 50, 100, 200],\n",
    "    'criterion': ['mse', 'mae'],\n",
    "    'max_depth': [None, 10, 20, 30, 40, 50],\n",
    "    'min_samples_split': [2, 5, 10, 15, 20],\n",
    "    'min_samples_leaf': [1, 2, 5, 10, 15],\n",
    "    'min_weight_fraction_leaf': [0.0, 0.1, 0.2, 0.3, 0.4],\n",
    "    'max_features': [None, 'auto', 'sqrt', 'log2'],\n",
    "    'max_leaf_nodes': [None, 10, 20, 30, 40, 50],\n",
    "    'min_impurity_decrease': [0.0, 0.1, 0.2, 0.3, 0.4],\n",
    "    'bootstrap': [True, False],\n",
    "    'n_jobs': [-1]\n",
    "}\n",
    "\n",
    "grid_search_rf = GridSearchCV(rf_model, param_grid_rf, scoring='neg_mean_squared_error', cv=5, n_jobs=-1, verbose=1)\n",
    "grid_search_rf.fit(X_tree, y_train)\n",
    "test_score_rf = grid_search_rf.best_estimator_.score(X_tree, y_train)\n",
    "\n",
    "print(f\"Best n_estimators value: {grid_search_rf.best_params_['n_estimators']}\")\n",
    "print(f\"Best max_depth value: {grid_search_rf.best_params_['max_depth']}\")\n",
    "print(f\"Best min_samples_split value: {grid_search_rf.best_params_['min_samples_split']}\")\n",
    "print(f\"Best min_samples_leaf value: {grid_search_rf.best_params_['min_samples_leaf']}\")\n",
    "print(f\"Best max_features value: {grid_search_rf.best_params_['max_features']}\")\n",
    "print(f\"Best bootstrap value: {grid_search_rf.best_params_['bootstrap']}\")\n",
    "print(f\"Best negative mean squared error: {grid_search_rf.best_score_}\")\n",
    "\"\"\""
   ]
  },
  {
   "cell_type": "markdown",
   "metadata": {},
   "source": [
    "## Hyperparameter Tuning - Gradient Boosted Regression\n",
    "Gradient Boosted Regression is an ensemble machine learning technique that builds a strong predictive model by combining a set of weak models (usually decision trees) in a sequential manner. At each iteration, a new weak model is added to the ensemble, and the existing models are updated to minimize the prediction errors.\n",
    "\n",
    "Relevant Parameters:\n",
    "\n",
    "**n_estimators**: The number of boosting stages (trees) to be constructed. Increasing the number of trees can improve the model's performance, but it can also lead to overfitting if too many trees are added.\n",
    "\n",
    "**learning_rate**: The rate at which the contribution of each tree is shrunk. A smaller learning rate requires more trees in the ensemble but often leads to a more accurate model.\n",
    "\n",
    "**max_depth**: The maximum depth of the individual regression estimators (trees). Deeper trees can capture more complex patterns in the data, but they can also lead to overfitting. Shallower trees are more likely to underfit the data.\n",
    "\n",
    "**min_samples_split**: The minimum number of samples required to split an internal node in the decision tree. Higher values help prevent overfitting by avoiding splits on small subsets of the data.\n",
    "\n",
    "**min_samples_leaf**: The minimum number of samples required to be at a leaf node in the decision tree. Higher values help prevent overfitting by avoiding splits that result in small leaf nodes.\n",
    "\n",
    "**max_features**: The number of features to consider when looking for the best split in the decision tree. Reducing the number of features can help prevent overfitting and reduce the computation time.\n",
    "**subsample**: The fraction of samples to be used for fitting the individual base learners (trees). Smaller values introduce randomness and can help prevent overfitting. A value of 1.0 means all samples are used for each tree.\n",
    "\n",
    "**loss**: The loss function to be optimized. Options include 'ls' (least squares), 'lad' (least absolute deviation), 'huber' (a combination of least squares and least absolute deviation), and 'quantile' (quantile regression). The choice of loss function depends on the specific problem and the desired robustness to outliers.\n",
    "\n",
    "By tuning these parameters, you can find the best combination for your specific regression problem and achieve a better balance between model complexity and generalization performance."
   ]
  },
  {
   "cell_type": "code",
   "execution_count": null,
   "metadata": {},
   "outputs": [],
   "source": [
    "from sklearn.ensemble import GradientBoostingRegressor\n",
    "\n",
    "# Gradient Boosting Regressor\n",
    "gb_model = GradientBoostingRegressor(random_state=42)\n",
    "gb_scores = cross_val_score(gb_model, X_tree, y_train, cv=5, scoring='neg_mean_squared_error')\n",
    "print(gb_scores)\n",
    "\n",
    "\"\"\"\n",
    "param_grid_gb = {\n",
    "    'n_estimators': [10, 50, 100, 200],\n",
    "    'learning_rate': [0.001, 0.01, 0.1, 0.2],\n",
    "    'subsample': [0.5, 0.75, 1.0],\n",
    "    'criterion': ['friedman_mse', 'mse', 'mae'],\n",
    "    'min_samples_split': [2, 5, 10, 15, 20],\n",
    "    'min_samples_leaf': [1, 2, 5, 10, 15],\n",
    "    'min_weight_fraction_leaf': [0.0, 0.1, 0.2, 0.3, 0.4],\n",
    "    'max_depth': [3, 10, 20, 30, 40, 50],\n",
    "    'min_impurity_decrease': [0.0, 0.1, 0.2, 0.3, 0.4],\n",
    "    'max_features': [None, 'auto', 'sqrt', 'log2'],\n",
    "    'max_leaf_nodes': [None, 10, 20, 30, 40, 50],\n",
    "    'alpha': [0.1, 0.5, 0.9],\n",
    "    'validation_fraction': [0.1, 0.2, 0.3],\n",
    "    'n_iter_no_change': [None, 5, 10, 15],\n",
    "    'tol': [1e-4, 1e-3, 1e-2, 1e-1]\n",
    "}\n",
    "\n",
    "grid_search_gb = GridSearchCV(gb_model, param_grid_gb, scoring='neg_mean_squared_error', cv=5, n_jobs=-1, verbose=1)\n",
    "grid_search_gb.fit(X_tree, y_train)\n",
    "test_score_gb = grid_search_gb.best_estimator_.score(X_tree, y_train)\n",
    "\n",
    "print(f\"Best n_estimators value: {grid_search_gb.best_params_['n_estimators']}\")\n",
    "print(f\"Best learning_rate value: {grid_search_gb.best_params_['learning_rate']}\")\n",
    "print(f\"Best max_depth value: {grid_search_gb.best_params_['max_depth']}\")\n",
    "print(f\"Best min_samples_split value: {grid_search_gb.best_params_['min_samples_split']}\")\n",
    "print(f\"Best min_samples_leaf value: {grid_search_gb.best_params_['min_samples_leaf']}\")\n",
    "print(f\"Best negative mean squared error: {grid_search_gb.best_score_}\")\n",
    "\n",
    "\"\"\""
   ]
  },
  {
   "cell_type": "markdown",
   "metadata": {},
   "source": [
    "## Hyperparameter Tuning - XGBoost\n",
    "XGBoost (eXtreme Gradient Boosting) is an optimized distributed gradient boosting library designed to be highly efficient, flexible, and portable. It implements machine learning algorithms under the Gradient Boosting framework, offering several regularization techniques to prevent overfitting.\n",
    "\n",
    "Relevant Parameters:\n",
    "\n",
    "**learning_rate**: Boosting learning rate. Controls the contribution of each tree in the ensemble. Lower learning rates lead to more robust models but require more trees (n_estimators).\n",
    "\n",
    "**n_estimators**: Number of boosting rounds to be run. Larger values result in more complex models but can increase the risk of overfitting.\n",
    "\n",
    "**max_depth**: Maximum tree depth for base learners. Controls the depth of each individual tree in the ensemble. Deeper trees can capture more complex patterns, but may also overfit the data.\n",
    "\n",
    "**min_child_weight**: Minimum sum of instance weight (hessian) needed in a child. Defines the minimum number of instances required for a node to be split.\n",
    "\n",
    "**gamma**: Minimum loss reduction required to make a further partition on a leaf node of the tree. Controls the complexity of the tree by reducing the number of splits made.\n",
    "\n",
    "**subsample**: Subsample ratio of the training instances. Setting it to a value less than 1.0 can help prevent overfitting.\n",
    "\n",
    "**colsample_bytree**: Subsample ratio of columns when constructing each tree. A smaller value can reduce overfitting and speed up the training process.\n",
    "\n",
    "**colsample_bylevel**: Subsample ratio of columns for each level. Specifies the fraction of features to choose for each level in the tree building process.\n",
    "\n",
    "**colsample_bynode**: Subsample ratio of columns for each split. Specifies the fraction of features to choose for each split in the tree building process.\n",
    "\n",
    "**reg_alpha**: L1 regularization term on weights. Controls the sparsity of feature weights, effectively performing feature selection.\n",
    "\n",
    "**reg_lambda**: L2 regularization term on weights. Smoothens the weights, preventing extreme values and reducing the risk of overfitting.\n",
    "\n",
    "By tuning these parameters, you can find the best combination for your specific problem and achieve a better balance between model complexity and generalization performance."
   ]
  },
  {
   "cell_type": "code",
   "execution_count": null,
   "metadata": {},
   "outputs": [],
   "source": [
    "from xgboost import XGBRegressor\n",
    "from sklearn.model_selection import RandomizedSearchCV, cross_val_score\n",
    "\n",
    "# XGBoost\n",
    "\n",
    "xgb_model = XGBRegressor(tree_method='gpu_hist')\n",
    "xgb_scores = cross_val_score(xgb_model, X_tree, y_train, cv=5, scoring='neg_mean_squared_error')\n",
    "print(xgb_scores)\n",
    "\n",
    "\"\"\"\n",
    "param_grid_xgb = {\n",
    "    'n_estimators': [10, 50, 100, 200],\n",
    "    'learning_rate': [0.001, 0.01, 0.1, 0.2],\n",
    "    'max_depth': [3, 6, 9, 12],\n",
    "    'min_child_weight': [1, 3, 5, 7],\n",
    "    'gamma': [0.0, 0.1, 0.2, 0.3, 0.4],\n",
    "    'subsample': [0.5, 0.75, 1.0],\n",
    "    'colsample_bytree': [0.5, 0.75, 1.0],\n",
    "    'reg_alpha': [0.0, 0.1, 0.5, 1.0],\n",
    "    'reg_lambda': [0.0, 0.1, 0.5, 1.0],\n",
    "    'scale_pos_weight': [1, 2, 3, 4],\n",
    "    'booster': ['gbtree', 'gblinear', 'dart'],\n",
    "    'tree_method': ['auto', 'exact', 'approx', 'hist', 'gpu_hist'],\n",
    "    'grow_policy': ['depthwise', 'lossguide'],\n",
    "    'max_leaves': [0, 10, 20, 30, 40, 50],\n",
    "    'sampling_method': ['uniform', 'gradient_based']\n",
    "}\n",
    "\n",
    "random_search_xgb = RandomizedSearchCV(xgb_model, param_grid_xgb, scoring='neg_mean_squared_error', cv=5, n_jobs=-1, verbose=1, n_iter=50)\n",
    "random_search_xgb.fit(X_tree, y_train)\n",
    "test_score_xgb = random_search_xgb.best_estimator_.score(X_tree, y_train)\n",
    "\n",
    "print(f\"Best n_estimators value: {random_search_xgb.best_params_['n_estimators']}\")\n",
    "print(f\"Best learning_rate value: {random_search_xgb.best_params_['learning_rate']}\")\n",
    "print(f\"Best max_depth value: {random_search_xgb.best_params_['max_depth']}\")\n",
    "print(f\"Best min_child_weight value: {random_search_xgb.best_params_['min_child_weight']}\")\n",
    "print(f\"Best subsample value: {random_search_xgb.best_params_['subsample']}\")\n",
    "print(f\"Best colsample_bytree value: {random_search_xgb.best_params_['colsample_bytree']}\")\n",
    "print(f\"Best gamma value: {random_search_xgb.best_params_['gamma']}\")\n",
    "print(f\"Best reg_alpha value: {random_search_xgb.best_params_['reg_alpha']}\")\n",
    "print(f\"Best reg_lambda value: {random_search_xgb.best_params_['reg_lambda']}\")\n",
    "print(f\"Best negative mean squared error: {random_search_xgb.best_score_}\")\n",
    "\"\"\""
   ]
  },
  {
   "cell_type": "code",
   "execution_count": null,
   "metadata": {},
   "outputs": [],
   "source": [
    "#########Data Impuation & Scaling (KNN, Clustering, ANN) ###############\n",
    "knn_pipe = Pipeline([\n",
    "    ('impute_trans', impute_preprocessor),\n",
    "    ('categorical_trans', category_preprocessor),\n",
    "    ('feat_scaling', scaling_preprocessor),\n",
    "    ('onehot', onehot_preprocessor)\n",
    "])\n",
    "\n",
    "X_knn = knn_pipe.fit_transform(X_train)"
   ]
  },
  {
   "cell_type": "markdown",
   "metadata": {},
   "source": [
    "\n",
    "## Hyperparameter Tuning - KNN\n",
    "k-Nearest Neighbors (KNN) is a simple, yet powerful, non-parametric supervised learning algorithm used for classification and regression. It assigns a new instance to the majority class or computes the mean (for regression tasks) of its k nearest neighbors in the feature space.\n",
    "\n",
    "**Relevant Parameters**:\n",
    "\n",
    "**n_neighbors**: Number of neighbors to use for the query. This is the main hyperparameter controlling the complexity of the KNN model. Larger values of k lead to smoother decision boundaries, while smaller values can capture more complex patterns but may overfit the data.\n",
    "\n",
    "**weights**: Weight function used in prediction. There are two options: 'uniform' (all points in each neighborhood are weighted equally) and 'distance' (assign weights proportional to the inverse of the distance from the query point). Using 'distance' can help reduce the impact of noise in the data.\n",
    "\n",
    "**algorithm**: Algorithm used to compute the nearest neighbors. Options include 'auto', 'ball_tree', 'kd_tree', and 'brute'. 'auto' will attempt to decide the most appropriate algorithm based on the values passed to fit() method. Choose the algorithm that best suits your data and computational requirements.\n",
    "\n",
    "**leaf_size**: Leaf size passed to BallTree or KDTree. This can affect the speed of the construction and query, as well as the memory required to store the tree. The optimal value depends on the nature of the problem.\n",
    "\n",
    "**p**: Power parameter for the Minkowski metric. When p = 1, this is equivalent to using manhattan_distance (l1), and for p = 2, it's equivalent to using euclidean_distance (l2). A larger value of p can help capture the specific geometry of your feature space.\n",
    "\n",
    "By tuning these parameters, you can find the best combination for your specific problem and achieve a better balance between model complexity and generalization performance."
   ]
  },
  {
   "cell_type": "code",
   "execution_count": null,
   "metadata": {},
   "outputs": [],
   "source": [
    "from sklearn.neighbors import KNeighborsRegressor\n",
    "\n",
    "# KNN\n",
    "knn_model = KNeighborsRegressor()\n",
    "knn_scores = cross_val_score(knn_model, X_knn, y_train, cv=5, scoring='neg_mean_squared_error')\n",
    "print(knn_scores)\n",
    "\n",
    "\"\"\"\n",
    "param_grid_knn = {\n",
    "    'n_neighbors': [3, 5, 7, 9, 11],\n",
    "    'weights': ['uniform', 'distance'],\n",
    "    'metric': ['euclidean', 'manhattan', 'minkowski']\n",
    "}\n",
    "\n",
    "grid_search_knn = GridSearchCV(knn_model, param_grid_knn, scoring='neg_mean_squared_error', cv=5, n_jobs=-1, verbose=1)\n",
    "grid_search_knn.fit(X_knn, y_train)\n",
    "test_score_knn = grid_search_knn.best_estimator_.score(X_knn, y_train)\n",
    "\n",
    "print(f\"Best n_neighbors value: {grid_search_knn.best_params_['n_neighbors']}\")\n",
    "print(f\"Best weights value: {grid_search_knn.best_params_['weights']}\")\n",
    "print(f\"Best metric value: {grid_search_knn.best_params_['metric']}\")\n",
    "print(f\"Best negative mean squared error: {grid_search_knn.best_score_}\")\n",
    "\"\"\""
   ]
  },
  {
   "cell_type": "markdown",
   "metadata": {},
   "source": [
    "## Hyperparameter Tuning - MLP Regression\n",
    "Multilayer Perceptron (MLP) Regression is a type of feedforward artificial neural network that can be used for regression tasks. MLPs consist of an input layer, one or more hidden layers, and an output layer. They learn to map input features to output values by adjusting the weights and biases of the network through a process called backpropagation.\n",
    "\n",
    "**Relevant Parameters**:\n",
    "\n",
    "**hidden_layer_sizes**: The number of hidden layers and the number of neurons in each hidden layer. This is specified as a tuple, e.g., (100,) means one hidden layer with 100 neurons, and (50, 50) means two hidden layers, each with 50 neurons. The choice of hidden layers and neurons can greatly impact the model's complexity and generalization performance.\n",
    "\n",
    "**activation**: The activation function used for the hidden layers. Options include 'identity', 'logistic' (sigmoid), 'tanh', and 'relu' (rectified linear unit). The choice of activation function depends on the specific problem and the desired non-linearity in the model.\n",
    "\n",
    "**solver**: The optimization algorithm used for weight and bias updates. Options include 'lbfgs', 'sgd' (stochastic gradient descent), and 'adam'. The choice of solver depends on the size and structure of the data and the desired computational efficiency.\n",
    "\n",
    "**alpha**: L2 regularization parameter (also called the weight decay). A positive float value that adds a penalty term to the loss function, helping to prevent overfitting by reducing the magnitude of the weights.\n",
    "\n",
    "**batch_size**: The size of the minibatches used for stochastic optimization. A smaller batch size introduces more randomness into the optimization process, which can help prevent overfitting and escape local minima.\n",
    "\n",
    "**learning_rate**: The learning rate schedule for weight updates. Options include 'constant', 'invscaling', and 'adaptive'. The choice of learning rate schedule depends on the solver and the desired convergence behavior.\n",
    "\n",
    "**learning_rate_init**: The initial learning rate used for weight updates. A smaller learning rate requires more iterations to converge but can result in a more accurate model.\n",
    "\n",
    "**max_iter**: The maximum number of iterations for the solver. Increasing the number of iterations can improve the model's performance, but it can also lead to overfitting if too many iterations are used.\n",
    "\n",
    "By tuning these parameters, you can find the best combination for your specific regression problem and achieve a better balance between model complexity and generalization performance."
   ]
  },
  {
   "cell_type": "code",
   "execution_count": null,
   "metadata": {},
   "outputs": [],
   "source": [
    "from sklearn.neural_network import MLPRegressor\n",
    "\n",
    "# ANN\n",
    "ann_model = MLPRegressor(random_state=42)\n",
    "ann_scores = cross_val_score(ann_model, X_tree, y_train, cv=5, scoring='neg_mean_squared_error')\n",
    "print(ann_scores)\n",
    "\n",
    "\"\"\"param_grid_ann = {\n",
    "    'hidden_layer_sizes': [(50,), (100,), (50, 50), (100, 100)],\n",
    "    'activation': ['identity', 'logistic', 'tanh', 'relu'],\n",
    "    'solver': ['lbfgs', 'sgd', 'adam'],\n",
    "    'alpha': [0.0001, 0.001, 0.01, 0.1],\n",
    "    'learning_rate': ['constant', 'invscaling', 'adaptive']\n",
    "}\n",
    "\n",
    "grid_search_ann = GridSearchCV(ann_model, param_grid_ann, scoring='neg_mean_squared_error', cv=5, n_jobs=-1, verbose=1)\n",
    "grid_search_ann.fit(X_tree, y_train)\n",
    "test_score_ann = grid_search_ann.best_estimator_.score(X_tree, y_train)\n",
    "\n",
    "print(f\"Best hidden_layer_sizes value: {grid_search_ann.best_params_['hidden_layer_sizes']}\")\n",
    "print(f\"Best activation value: {grid_search_ann.best_params_['activation']}\")\n",
    "print(f\"Best solver value: {grid_search_ann.best_params_['solver']}\")\n",
    "print(f\"Best alpha value: {grid_search_ann.best_params_['alpha']}\")\n",
    "print(f\"Best learning_rate value: {grid_search_ann.best_params_['learning_rate']}\")\n",
    "print(f\"Best negative mean squared error: {grid_search_ann.best_score_}\")\n",
    "\"\"\""
   ]
  },
  {
   "cell_type": "code",
   "execution_count": null,
   "metadata": {},
   "outputs": [],
   "source": [
    "x_test_reg = reg_pipe.transform(X_test)\n",
    "x_test_rr = rr_pipe.transform(X_test)\n",
    "x_test_Tree = tree_pipe.transform(X_test)\n",
    "x_test_knn = knn_pipe.transform(X_test)"
   ]
  },
  {
   "cell_type": "code",
   "execution_count": null,
   "metadata": {},
   "outputs": [],
   "source": [
    "\n",
    "model_lr.fit(X_Reg_fin, y_reg_fin)\n",
    "lasso_model.fit(X_rr_fin, y_rr_fin) \n",
    "ridge_model.fit(X_rr_fin, y_rr_fin) \n",
    "en_model.fit(X_rr_fin, y_rr_fin) "
   ]
  },
  {
   "cell_type": "code",
   "execution_count": null,
   "metadata": {},
   "outputs": [],
   "source": [
    "svm_model.fit(X_rr_fin, y_rr_fin) \n"
   ]
  },
  {
   "cell_type": "code",
   "execution_count": null,
   "metadata": {},
   "outputs": [],
   "source": [
    "dt_model.fit(X_tree, y_train)\n",
    "rf_model.fit(X_tree, y_train)\n",
    "gb_model.fit(X_tree, y_train)\n",
    "xgb_model.fit(X_tree, y_train)"
   ]
  },
  {
   "cell_type": "code",
   "execution_count": null,
   "metadata": {},
   "outputs": [],
   "source": [
    "knn_model.fit(X_knn, y_train)\n",
    "ann_model.fit(X_knn, y_train)"
   ]
  },
  {
   "cell_type": "code",
   "execution_count": null,
   "metadata": {},
   "outputs": [],
   "source": [
    "from sklearn.metrics import mean_squared_error\n",
    "\n",
    "# Linear Regression\n",
    "y_pred_lr = model_lr.predict(x_test_reg.values)\n",
    "mse_lr = mean_squared_error(y_test, y_pred_lr)\n",
    "print(f\"Linear Regression neg MSE: {-mse_lr}\")\n",
    "\n",
    "# Lasso\n",
    "y_pred_lasso = lasso_model.predict(x_test_rr.values)\n",
    "mse_lasso = mean_squared_error(y_test, y_pred_lasso)\n",
    "print(f\"Lasso neg MSE: {-mse_lasso}\")\n",
    "\n",
    "# Ridge\n",
    "y_pred_ridge = ridge_model.predict(x_test_rr.values)\n",
    "mse_ridge = mean_squared_error(y_test, y_pred_ridge)\n",
    "print(f\"Ridge neg MSE: {-mse_ridge}\")\n",
    "\n",
    "# Elastic Net\n",
    "y_pred_en = en_model.predict(x_test_rr.values)\n",
    "mse_en = mean_squared_error(y_test, y_pred_en)\n",
    "print(f\"Elastic Net neg MSE: {-mse_en}\")\n",
    "\n",
    "# SVM\n",
    "y_pred_svm = svm_model.predict(x_test_rr.values)\n",
    "mse_svm = mean_squared_error(y_test, y_pred_svm)\n",
    "print(f\"SVM neg MSE: {-mse_svm}\")\n",
    "\n",
    "# Decision Tree\n",
    "y_pred_dt = dt_model.predict(x_test_Tree.values)\n",
    "mse_dt = mean_squared_error(y_test, y_pred_dt)\n",
    "print(f\"Decision Tree neg MSE: {-mse_dt}\")\n",
    "\n",
    "# Random Forest\n",
    "y_pred_rf = rf_model.predict(x_test_Tree.values)\n",
    "mse_rf = mean_squared_error(y_test, y_pred_rf)\n",
    "print(f\"Random Forest neg MSE: {-mse_rf}\")\n",
    "\n",
    "# Gradient Boosting\n",
    "y_pred_gb = gb_model.predict(x_test_Tree.values)\n",
    "mse_gb = mean_squared_error(y_test, y_pred_gb)\n",
    "print(f\"Gradient Boosting neg MSE: {-mse_gb}\")\n",
    "\n",
    "# XGBoost\n",
    "y_pred_xgb = xgb_model.predict(x_test_Tree.values)\n",
    "mse_xgb = mean_squared_error(y_test, y_pred_xgb)\n",
    "print(f\"XGBoost neg MSE: {-mse_xgb}\")\n",
    "\n",
    "# KNN\n",
    "y_pred_knn = knn_model.predict(x_test_knn.values)\n",
    "mse_knn = mean_squared_error(y_test, y_pred_knn)\n",
    "print(f\"KNN neg MSE: {-mse_knn}\")\n",
    "\n",
    "# ANN\n",
    "y_pred_ann = ann_model.predict(x_test_knn.values)\n",
    "mse_ann = mean_squared_error(y_test, y_pred_ann)\n",
    "print(f\"ANN neg MSE: {-mse_ann}\")"
   ]
  },
  {
   "cell_type": "code",
   "execution_count": null,
   "metadata": {},
   "outputs": [],
   "source": []
  },
  {
   "cell_type": "code",
   "execution_count": null,
   "metadata": {},
   "outputs": [],
   "source": []
  },
  {
   "cell_type": "code",
   "execution_count": null,
   "metadata": {},
   "outputs": [],
   "source": []
  },
  {
   "cell_type": "code",
   "execution_count": null,
   "metadata": {},
   "outputs": [],
   "source": []
  }
 ],
 "metadata": {
  "kernelspec": {
   "display_name": "myenv",
   "language": "python",
   "name": "python3"
  },
  "language_info": {
   "codemirror_mode": {
    "name": "ipython",
    "version": 3
   },
   "file_extension": ".py",
   "mimetype": "text/x-python",
   "name": "python",
   "nbconvert_exporter": "python",
   "pygments_lexer": "ipython3",
   "version": "3.9.21"
  }
 },
 "nbformat": 4,
 "nbformat_minor": 2
}
